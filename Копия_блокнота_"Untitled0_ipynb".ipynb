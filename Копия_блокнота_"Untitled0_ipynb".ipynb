{
  "nbformat": 4,
  "nbformat_minor": 0,
  "metadata": {
    "colab": {
      "provenance": [],
      "toc_visible": true,
      "authorship_tag": "ABX9TyNCWdpIbNMXGUmizT5fRLh4",
      "include_colab_link": true
    },
    "kernelspec": {
      "name": "python3",
      "display_name": "Python 3"
    },
    "language_info": {
      "name": "python"
    }
  },
  "cells": [
    {
      "cell_type": "markdown",
      "metadata": {
        "id": "view-in-github",
        "colab_type": "text"
      },
      "source": [
        "<a href=\"https://colab.research.google.com/github/Mark16021990/GB/blob/main/%D0%9A%D0%BE%D0%BF%D0%B8%D1%8F_%D0%B1%D0%BB%D0%BE%D0%BA%D0%BD%D0%BE%D1%82%D0%B0_%22Untitled0_ipynb%22.ipynb\" target=\"_parent\"><img src=\"https://colab.research.google.com/assets/colab-badge.svg\" alt=\"Open In Colab\"/></a>"
      ]
    },
    {
      "cell_type": "markdown",
      "source": [
        "# 1 задача по теории вероятности"
      ],
      "metadata": {
        "id": "2aZBGUkOI-xu"
      }
    },
    {
      "cell_type": "code",
      "execution_count": null,
      "metadata": {
        "id": "zC2lnT6LIIQF",
        "outputId": "42d29761-bfbd-416d-c002-931af18f3e64",
        "colab": {
          "base_uri": "https://localhost:8080/"
        }
      },
      "outputs": [
        {
          "output_type": "stream",
          "name": "stdout",
          "text": [
            "Вероятность, что все карты – крести: 0.00264\n",
            "Вероятность, что среди 4-х карт хотя бы один туз: 0.28126\n",
            "Вероятность открыть дверь с первой попытки: 0.00833\n",
            "Вероятность, что все извлеченные детали окрашены: 0.18462\n",
            "Вероятность, что оба билета выигрышные: 0.00020\n"
          ]
        }
      ],
      "source": [
        "from math import comb\n",
        "\n",
        "# Задача 1a\n",
        "prob_all_clubs = comb(13, 4) / comb(52, 4)\n",
        "\n",
        "# Задача 1b\n",
        "prob_no_aces = comb(48, 4) / comb(52, 4)\n",
        "prob_at_least_one_ace = 1 - prob_no_aces\n",
        "\n",
        "# Задача 2\n",
        "prob_unlock_code = 1 / comb(10, 3)\n",
        "\n",
        "# Задача 3\n",
        "prob_all_painted = comb(9, 3) / comb(15, 3)\n",
        "\n",
        "# Задача 4\n",
        "prob_both_winning_tickets = comb(2, 2) / comb(100, 2)\n",
        "\n",
        "print(f\"Вероятность, что все карты – крести: {prob_all_clubs:.5f}\")\n",
        "print(f\"Вероятность, что среди 4-х карт хотя бы один туз: {prob_at_least_one_ace:.5f}\")\n",
        "print(f\"Вероятность открыть дверь с первой попытки: {prob_unlock_code:.5f}\")\n",
        "print(f\"Вероятность, что все извлеченные детали окрашены: {prob_all_painted:.5f}\")\n",
        "print(f\"Вероятность, что оба билета выигрышные: {prob_both_winning_tickets:.5f}\")\n"
      ]
    },
    {
      "cell_type": "markdown",
      "source": [
        "# 2-ая задача с применением формулы Бернули"
      ],
      "metadata": {
        "id": "bRabKdX576W4"
      }
    },
    {
      "cell_type": "code",
      "source": [
        "from scipy.stats import binom\n",
        "from math import comb\n",
        "\n",
        "# Задача 1: Вероятность ровно 85 попаданий из 100 выстрелов\n",
        "p_hit = 0.8\n",
        "n_shots = 100\n",
        "k_hits = 85\n",
        "prob_85_hits = binom.pmf(k_hits, n_shots, p_hit)\n",
        "print(f\"Вероятность того, что стрелок попадет в цель ровно 85 раз: {prob_85_hits:.6f}\")\n",
        "\n",
        "# Задача 2: Лампочки\n",
        "p_burnout = 0.0004\n",
        "n_lamps = 5000\n",
        "\n",
        "# Вероятность, что ни одна не перегорит\n",
        "prob_no_burnout = binom.pmf(0, n_lamps, p_burnout)\n",
        "print(f\"Вероятность, что ни одна лампочка не перегорит: {prob_no_burnout:.6f}\")\n",
        "\n",
        "# Вероятность, что перегорят ровно две\n",
        "prob_two_burnout = binom.pmf(2, n_lamps, p_burnout)\n",
        "print(f\"Вероятность, что перегорят ровно две лампочки: {prob_two_burnout:.6f}\")\n",
        "\n",
        "# Задача 3: Монета, вероятность 70 орлов из 144 подбрасываний\n",
        "p_heads = 0.5\n",
        "n_flips = 144\n",
        "k_heads = 70\n",
        "prob_70_heads = binom.pmf(k_heads, n_flips, p_heads)\n",
        "print(f\"Вероятность, что орел выпадет ровно 70 раз: {prob_70_heads:.6f}\")\n",
        "\n",
        "# Задача 4: Мячи\n",
        "# Вероятность вытащить два белых мяча из первого ящика\n",
        "prob_two_white_first = comb(7, 2) / comb(10, 2)\n",
        "\n",
        "# Вероятность вытащить два белых мяча из второго ящика\n",
        "prob_two_white_second = comb(9, 2) / comb(11, 2)\n",
        "\n",
        "# Вероятность, что все мячи белые\n",
        "prob_all_white = prob_two_white_first * prob_two_white_second\n",
        "print(f\"Вероятность того, что все мячи белые: {prob_all_white:.6f}\")\n",
        "\n",
        "# Вероятность того, что ровно два мяча белые\n",
        "# Случаи:\n",
        "# - Два белых из первого и ни одного из второго\n",
        "prob_case1 = prob_two_white_first * (comb(2, 0) * comb(9, 2)) / comb(11, 2)\n",
        "\n",
        "# - Один белый из первого и один из второго\n",
        "prob_case2 = (comb(7, 1) * comb(3, 1) / comb(10, 2)) * (comb(9, 1) * comb(2, 1) / comb(11, 2))\n",
        "\n",
        "# - Ни одного из первого и два из второго\n",
        "prob_case3 = (comb(3, 2) / comb(10, 2)) * prob_two_white_second\n",
        "\n",
        "prob_two_white_total = prob_case1 + prob_case2 + prob_case3\n",
        "print(f\"Вероятность того, что ровно два мяча белые: {prob_two_white_total:.6f}\")\n",
        "\n",
        "# Вероятность того, что хотя бы один мяч белый\n",
        "# Это дополнение к вероятности того, что все мячи черные\n",
        "prob_all_black_first = (comb(3, 2) / comb(10, 2))\n",
        "prob_all_black_second = (comb(2, 2) / comb(11, 2))\n",
        "prob_all_black = prob_all_black_first * prob_all_black_second\n",
        "\n",
        "prob_at_least_one_white = 1 - prob_all_black\n",
        "print(f\"Вероятность того, что хотя бы один мяч белый: {prob_at_least_one_white:.6f}\")\n"
      ],
      "metadata": {
        "colab": {
          "base_uri": "https://localhost:8080/"
        },
        "id": "yWtEUpss8D5G",
        "outputId": "5a27ab7a-0a92-4bf8-b545-ac7091abfde1"
      },
      "execution_count": null,
      "outputs": [
        {
          "output_type": "stream",
          "name": "stdout",
          "text": [
            "Вероятность того, что стрелок попадет в цель ровно 85 раз: 0.048062\n",
            "Вероятность, что ни одна лампочка не перегорит: 0.135281\n",
            "Вероятность, что перегорят ровно две лампочки: 0.270725\n",
            "Вероятность, что орел выпадет ровно 70 раз: 0.062812\n",
            "Вероятность того, что все мячи белые: 0.305455\n",
            "Вероятность того, что ровно два мяча белые: 0.501818\n",
            "Вероятность того, что хотя бы один мяч белый: 0.998788\n"
          ]
        }
      ]
    },
    {
      "cell_type": "markdown",
      "source": [
        "# 3-ая задача\n",
        "\n",
        "---\n",
        "\n"
      ],
      "metadata": {
        "id": "EpM72AMY3qOK"
      }
    },
    {
      "cell_type": "code",
      "source": [
        "###Давайте разберем каждую задачу подробно и предоставим код на Python для их решения.\n",
        "\n",
        "### 1. Статистические показатели выборки\n",
        "\n",
        "###Для начала рассчитаем среднее арифметическое, смещенную и несмещенную дисперсии, а также среднее квадратичное отклонение для заданной выборки.\n",
        "\n",
        "import math\n",
        "\n",
        "# Данные выборки\n",
        "salaries = [100, 80, 75, 77, 89, 33, 45, 25, 65, 17,\n",
        "            30, 24, 57, 55, 70, 75, 65, 84, 90, 150]\n",
        "\n",
        "# Среднее арифметическое\n",
        "mean_salary = sum(salaries) / len(salaries)\n",
        "\n",
        "# Смещенная дисперсия\n",
        "biased_variance = sum((x - mean_salary) ** 2 for x in salaries) / len(salaries)\n",
        "\n",
        "# Несмещенная дисперсия\n",
        "unbiased_variance = sum((x - mean_salary) ** 2 for x in salaries) / (len(salaries) - 1)\n",
        "\n",
        "# Среднее квадратичное отклонение\n",
        "std_deviation = math.sqrt(biased_variance)\n",
        "\n",
        "print(f\"Среднее арифметическое: {mean_salary}\")\n",
        "print(f\"Смещенная дисперсия: {biased_variance}\")\n",
        "print(f\"Несмещенная дисперсия: {unbiased_variance}\")\n",
        "print(f\"Среднее квадратичное отклонение: {std_deviation}\")\n",
        "\n"
      ],
      "metadata": {
        "colab": {
          "base_uri": "https://localhost:8080/"
        },
        "id": "uRqJmG2K3ySR",
        "outputId": "c0bff059-53b7-47a9-c59c-46446165a133"
      },
      "execution_count": 3,
      "outputs": [
        {
          "output_type": "stream",
          "name": "stdout",
          "text": [
            "Среднее арифметическое: 65.3\n",
            "Смещенная дисперсия: 950.11\n",
            "Несмещенная дисперсия: 1000.1157894736842\n",
            "Среднее квадратичное отклонение: 30.823854398825596\n"
          ]
        }
      ]
    },
    {
      "cell_type": "code",
      "source": [
        "### 2. Вероятность того, что 3 мяча белые\n",
        "\n",
        "###Рассчитаем вероятность того, что из двух ящиков извлечено ровно три белых мяча.\n",
        "\n",
        "from math import comb\n",
        "\n",
        "# Вероятность того, что из первого ящика вытащили 2 белых мяча\n",
        "p_2_white_from_first = comb(5, 2) * comb(3, 0) / comb(8, 2)\n",
        "\n",
        "# Вероятность того, что из второго ящика вытащили 1 белый мяч\n",
        "p_1_white_from_second = comb(5, 1) * comb(7, 3) / comb(12, 4)\n",
        "\n",
        "# Вероятность того, что из первого ящика вытащили 1 белый мяч и из второго - 2 белых\n",
        "p_1_white_from_first = comb(5, 1) * comb(3, 1) / comb(8, 2)\n",
        "p_2_white_from_second = comb(5, 2) * comb(7, 2) / comb(12, 4)\n",
        "\n",
        "# Общая вероятность\n",
        "p_total = (p_2_white_from_first * p_1_white_from_second) + (p_1_white_from_first * p_2_white_from_second)\n",
        "\n",
        "print(f\"Вероятность того, что три мяча белые: {p_total}\")\n"
      ],
      "metadata": {
        "colab": {
          "base_uri": "https://localhost:8080/"
        },
        "id": "8tQvw8jX4OjK",
        "outputId": "b755c58b-a157-43e8-ddf9-6edd443221c0"
      },
      "execution_count": 4,
      "outputs": [
        {
          "output_type": "stream",
          "name": "stdout",
          "text": [
            "Вероятность того, что три мяча белые: 0.35353535353535354\n"
          ]
        }
      ]
    },
    {
      "cell_type": "code",
      "source": [
        "### 3. Вероятность того, что выстрел произведен каждым из спортсменов\n",
        "\n",
        "###Рассчитаем вероятности того, что попадание в мишень было сделано каждым из трех спортсменов.\n",
        "\n",
        "# Вероятности попадания\n",
        "p_hit_1 = 0.9\n",
        "p_hit_2 = 0.8\n",
        "p_hit_3 = 0.6\n",
        "\n",
        "# Вероятности выбора спортсмена (равновероятные)\n",
        "p_athlete = 1/3\n",
        "\n",
        "# Полная вероятность попадания\n",
        "p_hit_total = p_hit_1 * p_athlete + p_hit_2 * p_athlete + p_hit_3 * p_athlete\n",
        "\n",
        "# Условные вероятности\n",
        "p_first = (p_hit_1 * p_athlete) / p_hit_total\n",
        "p_second = (p_hit_2 * p_athlete) / p_hit_total\n",
        "p_third = (p_hit_3 * p_athlete) / p_hit_total\n",
        "\n",
        "print(f\"Вероятность того, что выстрел произведен первым спортсменом: {p_first}\")\n",
        "print(f\"Вероятность того, что выстрел произведен вторым спортсменом: {p_second}\")\n",
        "print(f\"Вероятность того, что выстрел произведен третьим спортсменом: {p_third}\")\n",
        "\n",
        "\n"
      ],
      "metadata": {
        "colab": {
          "base_uri": "https://localhost:8080/"
        },
        "id": "nCTp3XI-4Uxn",
        "outputId": "a22208cc-e614-43ca-dfbd-004250a19c45"
      },
      "execution_count": 5,
      "outputs": [
        {
          "output_type": "stream",
          "name": "stdout",
          "text": [
            "Вероятность того, что выстрел произведен первым спортсменом: 0.391304347826087\n",
            "Вероятность того, что выстрел произведен вторым спортсменом: 0.3478260869565218\n",
            "Вероятность того, что выстрел произведен третьим спортсменом: 0.2608695652173913\n"
          ]
        }
      ]
    },
    {
      "cell_type": "code",
      "source": [
        "### 4. Вероятность того, что студент учится на факультете A, B или C\n",
        "\n",
        "###Рассчитаем вероятности того, что студент сдавший сессию учится на факультете A, B или C.\n",
        "\n",
        "# Вероятности сдачи сессии студентами факультетов A, B и C\n",
        "p_pass_A = 0.8\n",
        "p_pass_B = 0.7\n",
        "p_pass_C = 0.9\n",
        "\n",
        "# Доли студентов на факультетах\n",
        "p_A = 1/4\n",
        "p_B = 1/4\n",
        "p_C = 1/2\n",
        "\n",
        "# Полная вероятность сдачи сессии\n",
        "p_pass_total = p_pass_A * p_A + p_pass_B * p_B + p_pass_C * p_C\n",
        "\n",
        "# Условные вероятности\n",
        "p_student_A = (p_pass_A * p_A) / p_pass_total\n",
        "p_student_B = (p_pass_B * p_B) / p_pass_total\n",
        "p_student_C = (p_pass_C * p_C) / p_pass_total\n",
        "\n",
        "print(f\"Вероятность того, что студент учится на факультете A: {p_student_A}\")\n",
        "print(f\"Вероятность того, что студент учится на факультете B: {p_student_B}\")\n",
        "print(f\"Вероятность того, что студент учится на факультете C: {p_student_C}\")\n",
        "\n"
      ],
      "metadata": {
        "colab": {
          "base_uri": "https://localhost:8080/"
        },
        "id": "HN70nIug4Uhx",
        "outputId": "d111082b-b5a0-444d-8fba-edb0ae189454"
      },
      "execution_count": 6,
      "outputs": [
        {
          "output_type": "stream",
          "name": "stdout",
          "text": [
            "Вероятность того, что студент учится на факультете A: 0.24242424242424246\n",
            "Вероятность того, что студент учится на факультете B: 0.21212121212121213\n",
            "Вероятность того, что студент учится на факультете C: 0.5454545454545455\n"
          ]
        }
      ]
    },
    {
      "cell_type": "code",
      "source": [
        "### 5. Вероятности выхода из строя деталей\n",
        "\n",
        "###Рассчитаем различные вероятности выхода из строя деталей в сложной системе.\n",
        "\n",
        "# Вероятности выхода из строя каждой детали\n",
        "p_fail_1 = 0.1\n",
        "p_fail_2 = 0.2\n",
        "p_fail_3 = 0.25\n",
        "\n",
        "# Вероятность выхода из строя всех деталей\n",
        "p_all_fail = p_fail_1 * p_fail_2 * p_fail_3\n",
        "\n",
        "# Вероятность выхода из строя хотя бы одной детали (комплемент к вероятности того, что ни одна не выйдет из строя)\n",
        "p_at_least_one_fail = 1 - (1 - p_fail_1) * (1 - p_fail_2) * (1 - p_fail_3)\n",
        "\n",
        "# Вероятность выхода из строя только двух деталей (сумма вероятностей для каждой комбинации двух вышедших из строя деталей)\n",
        "p_two_fail = (\n",
        "    p_fail_1 * p_fail_2 * (1 - p_fail_3) +\n",
        "    p_fail_1 * (1 - p_fail_2) * p_fail_3 +\n",
        "    (1 - p_fail_1) * p_fail_2 * p_fail_3\n",
        ")\n",
        "\n",
        "# Вероятность выхода из строя от одной до двух деталей (комплемент к вероятностям выхода всех или ни одной)\n",
        "p_one_to_two_fail = p_at_least_one_fail - p_all_fail\n",
        "\n",
        "print(f\"Вероятность того, что все детали выйдут из строя: {p_all_fail}\")\n",
        "print(f\"Вероятность того, что только две детали выйдут из строя: {p_two_fail}\")\n",
        "print(f\"Вероятность того, что хотя бы одна деталь выйдет из строя: {p_at_least_one_fail}\")\n",
        "print(f\"Вероятность того, что от одной до двух деталей выйдут из строя: {p_one_to_two_fail}\")"
      ],
      "metadata": {
        "colab": {
          "base_uri": "https://localhost:8080/"
        },
        "id": "W2JU9ej14ONm",
        "outputId": "57b5da62-3a52-426f-a0dd-e9d8f780c732"
      },
      "execution_count": 7,
      "outputs": [
        {
          "output_type": "stream",
          "name": "stdout",
          "text": [
            "Вероятность того, что все детали выйдут из строя: 0.005000000000000001\n",
            "Вероятность того, что только две детали выйдут из строя: 0.08000000000000002\n",
            "Вероятность того, что хотя бы одна деталь выйдет из строя: 0.45999999999999996\n",
            "Вероятность того, что от одной до двух деталей выйдут из строя: 0.45499999999999996\n"
          ]
        }
      ]
    }
  ]
}