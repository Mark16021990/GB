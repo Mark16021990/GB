{
  "nbformat": 4,
  "nbformat_minor": 0,
  "metadata": {
    "colab": {
      "provenance": [],
      "collapsed_sections": [
        "EpM72AMY3qOK"
      ],
      "toc_visible": true,
      "authorship_tag": "ABX9TyMg0wXQaGMOcz0VoJeyW7Dj",
      "include_colab_link": true
    },
    "kernelspec": {
      "name": "python3",
      "display_name": "Python 3"
    },
    "language_info": {
      "name": "python"
    }
  },
  "cells": [
    {
      "cell_type": "markdown",
      "metadata": {
        "id": "view-in-github",
        "colab_type": "text"
      },
      "source": [
        "<a href=\"https://colab.research.google.com/github/Mark16021990/GB/blob/main/_untitled0_ipynb.ipynb\" target=\"_parent\"><img src=\"https://colab.research.google.com/assets/colab-badge.svg\" alt=\"Open In Colab\"/></a>"
      ]
    },
    {
      "cell_type": "markdown",
      "source": [
        "# 1 задача по теории вероятности"
      ],
      "metadata": {
        "id": "2aZBGUkOI-xu"
      }
    },
    {
      "cell_type": "code",
      "execution_count": null,
      "metadata": {
        "id": "zC2lnT6LIIQF",
        "outputId": "42d29761-bfbd-416d-c002-931af18f3e64",
        "colab": {
          "base_uri": "https://localhost:8080/"
        }
      },
      "outputs": [
        {
          "output_type": "stream",
          "name": "stdout",
          "text": [
            "Вероятность, что все карты – крести: 0.00264\n",
            "Вероятность, что среди 4-х карт хотя бы один туз: 0.28126\n",
            "Вероятность открыть дверь с первой попытки: 0.00833\n",
            "Вероятность, что все извлеченные детали окрашены: 0.18462\n",
            "Вероятность, что оба билета выигрышные: 0.00020\n"
          ]
        }
      ],
      "source": [
        "from math import comb\n",
        "\n",
        "# Задача 1a\n",
        "prob_all_clubs = comb(13, 4) / comb(52, 4)\n",
        "\n",
        "# Задача 1b\n",
        "prob_no_aces = comb(48, 4) / comb(52, 4)\n",
        "prob_at_least_one_ace = 1 - prob_no_aces\n",
        "\n",
        "# Задача 2\n",
        "prob_unlock_code = 1 / comb(10, 3)\n",
        "\n",
        "# Задача 3\n",
        "prob_all_painted = comb(9, 3) / comb(15, 3)\n",
        "\n",
        "# Задача 4\n",
        "prob_both_winning_tickets = comb(2, 2) / comb(100, 2)\n",
        "\n",
        "print(f\"Вероятность, что все карты – крести: {prob_all_clubs:.5f}\")\n",
        "print(f\"Вероятность, что среди 4-х карт хотя бы один туз: {prob_at_least_one_ace:.5f}\")\n",
        "print(f\"Вероятность открыть дверь с первой попытки: {prob_unlock_code:.5f}\")\n",
        "print(f\"Вероятность, что все извлеченные детали окрашены: {prob_all_painted:.5f}\")\n",
        "print(f\"Вероятность, что оба билета выигрышные: {prob_both_winning_tickets:.5f}\")\n"
      ]
    },
    {
      "cell_type": "markdown",
      "source": [
        "# 2-ая задача с применением формулы Бернули"
      ],
      "metadata": {
        "id": "bRabKdX576W4"
      }
    },
    {
      "cell_type": "code",
      "source": [
        "from scipy.stats import binom\n",
        "from math import comb\n",
        "\n",
        "# Задача 1: Вероятность ровно 85 попаданий из 100 выстрелов\n",
        "p_hit = 0.8\n",
        "n_shots = 100\n",
        "k_hits = 85\n",
        "prob_85_hits = binom.pmf(k_hits, n_shots, p_hit)\n",
        "print(f\"Вероятность того, что стрелок попадет в цель ровно 85 раз: {prob_85_hits:.6f}\")\n",
        "\n",
        "# Задача 2: Лампочки\n",
        "p_burnout = 0.0004\n",
        "n_lamps = 5000\n",
        "\n",
        "# Вероятность, что ни одна не перегорит\n",
        "prob_no_burnout = binom.pmf(0, n_lamps, p_burnout)\n",
        "print(f\"Вероятность, что ни одна лампочка не перегорит: {prob_no_burnout:.6f}\")\n",
        "\n",
        "# Вероятность, что перегорят ровно две\n",
        "prob_two_burnout = binom.pmf(2, n_lamps, p_burnout)\n",
        "print(f\"Вероятность, что перегорят ровно две лампочки: {prob_two_burnout:.6f}\")\n",
        "\n",
        "# Задача 3: Монета, вероятность 70 орлов из 144 подбрасываний\n",
        "p_heads = 0.5\n",
        "n_flips = 144\n",
        "k_heads = 70\n",
        "prob_70_heads = binom.pmf(k_heads, n_flips, p_heads)\n",
        "print(f\"Вероятность, что орел выпадет ровно 70 раз: {prob_70_heads:.6f}\")\n",
        "\n",
        "# Задача 4: Мячи\n",
        "# Вероятность вытащить два белых мяча из первого ящика\n",
        "prob_two_white_first = comb(7, 2) / comb(10, 2)\n",
        "\n",
        "# Вероятность вытащить два белых мяча из второго ящика\n",
        "prob_two_white_second = comb(9, 2) / comb(11, 2)\n",
        "\n",
        "# Вероятность, что все мячи белые\n",
        "prob_all_white = prob_two_white_first * prob_two_white_second\n",
        "print(f\"Вероятность того, что все мячи белые: {prob_all_white:.6f}\")\n",
        "\n",
        "# Вероятность того, что ровно два мяча белые\n",
        "# Случаи:\n",
        "# - Два белых из первого и ни одного из второго\n",
        "prob_case1 = prob_two_white_first * (comb(2, 0) * comb(9, 2)) / comb(11, 2)\n",
        "\n",
        "# - Один белый из первого и один из второго\n",
        "prob_case2 = (comb(7, 1) * comb(3, 1) / comb(10, 2)) * (comb(9, 1) * comb(2, 1) / comb(11, 2))\n",
        "\n",
        "# - Ни одного из первого и два из второго\n",
        "prob_case3 = (comb(3, 2) / comb(10, 2)) * prob_two_white_second\n",
        "\n",
        "prob_two_white_total = prob_case1 + prob_case2 + prob_case3\n",
        "print(f\"Вероятность того, что ровно два мяча белые: {prob_two_white_total:.6f}\")\n",
        "\n",
        "# Вероятность того, что хотя бы один мяч белый\n",
        "# Это дополнение к вероятности того, что все мячи черные\n",
        "prob_all_black_first = (comb(3, 2) / comb(10, 2))\n",
        "prob_all_black_second = (comb(2, 2) / comb(11, 2))\n",
        "prob_all_black = prob_all_black_first * prob_all_black_second\n",
        "\n",
        "prob_at_least_one_white = 1 - prob_all_black\n",
        "print(f\"Вероятность того, что хотя бы один мяч белый: {prob_at_least_one_white:.6f}\")\n"
      ],
      "metadata": {
        "colab": {
          "base_uri": "https://localhost:8080/"
        },
        "id": "yWtEUpss8D5G",
        "outputId": "5a27ab7a-0a92-4bf8-b545-ac7091abfde1"
      },
      "execution_count": null,
      "outputs": [
        {
          "output_type": "stream",
          "name": "stdout",
          "text": [
            "Вероятность того, что стрелок попадет в цель ровно 85 раз: 0.048062\n",
            "Вероятность, что ни одна лампочка не перегорит: 0.135281\n",
            "Вероятность, что перегорят ровно две лампочки: 0.270725\n",
            "Вероятность, что орел выпадет ровно 70 раз: 0.062812\n",
            "Вероятность того, что все мячи белые: 0.305455\n",
            "Вероятность того, что ровно два мяча белые: 0.501818\n",
            "Вероятность того, что хотя бы один мяч белый: 0.998788\n"
          ]
        }
      ]
    },
    {
      "cell_type": "markdown",
      "source": [
        "# 3-ая задача\n",
        "\n",
        "---\n",
        "\n"
      ],
      "metadata": {
        "id": "EpM72AMY3qOK"
      }
    },
    {
      "cell_type": "code",
      "source": [
        "###Давайте разберем каждую задачу подробно и предоставим код на Python для их решения.\n",
        "\n",
        "### 1. Статистические показатели выборки\n",
        "\n",
        "###Для начала рассчитаем среднее арифметическое, смещенную и несмещенную дисперсии, а также среднее квадратичное отклонение для заданной выборки.\n",
        "\n",
        "import math\n",
        "\n",
        "# Данные выборки\n",
        "salaries = [100, 80, 75, 77, 89, 33, 45, 25, 65, 17,\n",
        "            30, 24, 57, 55, 70, 75, 65, 84, 90, 150]\n",
        "\n",
        "# Среднее арифметическое\n",
        "mean_salary = sum(salaries) / len(salaries)\n",
        "\n",
        "# Смещенная дисперсия\n",
        "biased_variance = sum((x - mean_salary) ** 2 for x in salaries) / len(salaries)\n",
        "\n",
        "# Несмещенная дисперсия\n",
        "unbiased_variance = sum((x - mean_salary) ** 2 for x in salaries) / (len(salaries) - 1)\n",
        "\n",
        "# Среднее квадратичное отклонение\n",
        "std_deviation = math.sqrt(biased_variance)\n",
        "\n",
        "print(f\"Среднее арифметическое: {mean_salary}\")\n",
        "print(f\"Смещенная дисперсия: {biased_variance}\")\n",
        "print(f\"Несмещенная дисперсия: {unbiased_variance}\")\n",
        "print(f\"Среднее квадратичное отклонение: {std_deviation}\")\n",
        "\n"
      ],
      "metadata": {
        "colab": {
          "base_uri": "https://localhost:8080/"
        },
        "id": "uRqJmG2K3ySR",
        "outputId": "c0bff059-53b7-47a9-c59c-46446165a133"
      },
      "execution_count": null,
      "outputs": [
        {
          "output_type": "stream",
          "name": "stdout",
          "text": [
            "Среднее арифметическое: 65.3\n",
            "Смещенная дисперсия: 950.11\n",
            "Несмещенная дисперсия: 1000.1157894736842\n",
            "Среднее квадратичное отклонение: 30.823854398825596\n"
          ]
        }
      ]
    },
    {
      "cell_type": "code",
      "source": [
        "### 2. Вероятность того, что 3 мяча белые\n",
        "\n",
        "###Рассчитаем вероятность того, что из двух ящиков извлечено ровно три белых мяча.\n",
        "\n",
        "from math import comb\n",
        "\n",
        "# Вероятность того, что из первого ящика вытащили 2 белых мяча\n",
        "p_2_white_from_first = comb(5, 2) * comb(3, 0) / comb(8, 2)\n",
        "\n",
        "# Вероятность того, что из второго ящика вытащили 1 белый мяч\n",
        "p_1_white_from_second = comb(5, 1) * comb(7, 3) / comb(12, 4)\n",
        "\n",
        "# Вероятность того, что из первого ящика вытащили 1 белый мяч и из второго - 2 белых\n",
        "p_1_white_from_first = comb(5, 1) * comb(3, 1) / comb(8, 2)\n",
        "p_2_white_from_second = comb(5, 2) * comb(7, 2) / comb(12, 4)\n",
        "\n",
        "# Общая вероятность\n",
        "p_total = (p_2_white_from_first * p_1_white_from_second) + (p_1_white_from_first * p_2_white_from_second)\n",
        "\n",
        "print(f\"Вероятность того, что три мяча белые: {p_total}\")\n"
      ],
      "metadata": {
        "colab": {
          "base_uri": "https://localhost:8080/"
        },
        "id": "8tQvw8jX4OjK",
        "outputId": "b755c58b-a157-43e8-ddf9-6edd443221c0"
      },
      "execution_count": null,
      "outputs": [
        {
          "output_type": "stream",
          "name": "stdout",
          "text": [
            "Вероятность того, что три мяча белые: 0.35353535353535354\n"
          ]
        }
      ]
    },
    {
      "cell_type": "code",
      "source": [
        "### 3. Вероятность того, что выстрел произведен каждым из спортсменов\n",
        "\n",
        "###Рассчитаем вероятности того, что попадание в мишень было сделано каждым из трех спортсменов.\n",
        "\n",
        "# Вероятности попадания\n",
        "p_hit_1 = 0.9\n",
        "p_hit_2 = 0.8\n",
        "p_hit_3 = 0.6\n",
        "\n",
        "# Вероятности выбора спортсмена (равновероятные)\n",
        "p_athlete = 1/3\n",
        "\n",
        "# Полная вероятность попадания\n",
        "p_hit_total = p_hit_1 * p_athlete + p_hit_2 * p_athlete + p_hit_3 * p_athlete\n",
        "\n",
        "# Условные вероятности\n",
        "p_first = (p_hit_1 * p_athlete) / p_hit_total\n",
        "p_second = (p_hit_2 * p_athlete) / p_hit_total\n",
        "p_third = (p_hit_3 * p_athlete) / p_hit_total\n",
        "\n",
        "print(f\"Вероятность того, что выстрел произведен первым спортсменом: {p_first}\")\n",
        "print(f\"Вероятность того, что выстрел произведен вторым спортсменом: {p_second}\")\n",
        "print(f\"Вероятность того, что выстрел произведен третьим спортсменом: {p_third}\")\n",
        "\n",
        "\n"
      ],
      "metadata": {
        "colab": {
          "base_uri": "https://localhost:8080/"
        },
        "id": "nCTp3XI-4Uxn",
        "outputId": "a22208cc-e614-43ca-dfbd-004250a19c45"
      },
      "execution_count": null,
      "outputs": [
        {
          "output_type": "stream",
          "name": "stdout",
          "text": [
            "Вероятность того, что выстрел произведен первым спортсменом: 0.391304347826087\n",
            "Вероятность того, что выстрел произведен вторым спортсменом: 0.3478260869565218\n",
            "Вероятность того, что выстрел произведен третьим спортсменом: 0.2608695652173913\n"
          ]
        }
      ]
    },
    {
      "cell_type": "code",
      "source": [
        "### 4. Вероятность того, что студент учится на факультете A, B или C\n",
        "\n",
        "###Рассчитаем вероятности того, что студент сдавший сессию учится на факультете A, B или C.\n",
        "\n",
        "# Вероятности сдачи сессии студентами факультетов A, B и C\n",
        "p_pass_A = 0.8\n",
        "p_pass_B = 0.7\n",
        "p_pass_C = 0.9\n",
        "\n",
        "# Доли студентов на факультетах\n",
        "p_A = 1/4\n",
        "p_B = 1/4\n",
        "p_C = 1/2\n",
        "\n",
        "# Полная вероятность сдачи сессии\n",
        "p_pass_total = p_pass_A * p_A + p_pass_B * p_B + p_pass_C * p_C\n",
        "\n",
        "# Условные вероятности\n",
        "p_student_A = (p_pass_A * p_A) / p_pass_total\n",
        "p_student_B = (p_pass_B * p_B) / p_pass_total\n",
        "p_student_C = (p_pass_C * p_C) / p_pass_total\n",
        "\n",
        "print(f\"Вероятность того, что студент учится на факультете A: {p_student_A}\")\n",
        "print(f\"Вероятность того, что студент учится на факультете B: {p_student_B}\")\n",
        "print(f\"Вероятность того, что студент учится на факультете C: {p_student_C}\")\n",
        "\n"
      ],
      "metadata": {
        "colab": {
          "base_uri": "https://localhost:8080/"
        },
        "id": "HN70nIug4Uhx",
        "outputId": "d111082b-b5a0-444d-8fba-edb0ae189454"
      },
      "execution_count": null,
      "outputs": [
        {
          "output_type": "stream",
          "name": "stdout",
          "text": [
            "Вероятность того, что студент учится на факультете A: 0.24242424242424246\n",
            "Вероятность того, что студент учится на факультете B: 0.21212121212121213\n",
            "Вероятность того, что студент учится на факультете C: 0.5454545454545455\n"
          ]
        }
      ]
    },
    {
      "cell_type": "code",
      "source": [
        "### 5. Вероятности выхода из строя деталей\n",
        "\n",
        "###Рассчитаем различные вероятности выхода из строя деталей в сложной системе.\n",
        "\n",
        "# Вероятности выхода из строя каждой детали\n",
        "p_fail_1 = 0.1\n",
        "p_fail_2 = 0.2\n",
        "p_fail_3 = 0.25\n",
        "\n",
        "# Вероятность выхода из строя всех деталей\n",
        "p_all_fail = p_fail_1 * p_fail_2 * p_fail_3\n",
        "\n",
        "# Вероятность выхода из строя хотя бы одной детали (комплемент к вероятности того, что ни одна не выйдет из строя)\n",
        "p_at_least_one_fail = 1 - (1 - p_fail_1) * (1 - p_fail_2) * (1 - p_fail_3)\n",
        "\n",
        "# Вероятность выхода из строя только двух деталей (сумма вероятностей для каждой комбинации двух вышедших из строя деталей)\n",
        "p_two_fail = (\n",
        "    p_fail_1 * p_fail_2 * (1 - p_fail_3) +\n",
        "    p_fail_1 * (1 - p_fail_2) * p_fail_3 +\n",
        "    (1 - p_fail_1) * p_fail_2 * p_fail_3\n",
        ")\n",
        "\n",
        "# Вероятность выхода из строя от одной до двух деталей (комплемент к вероятностям выхода всех или ни одной)\n",
        "p_one_to_two_fail = p_at_least_one_fail - p_all_fail\n",
        "\n",
        "print(f\"Вероятность того, что все детали выйдут из строя: {p_all_fail}\")\n",
        "print(f\"Вероятность того, что только две детали выйдут из строя: {p_two_fail}\")\n",
        "print(f\"Вероятность того, что хотя бы одна деталь выйдет из строя: {p_at_least_one_fail}\")\n",
        "print(f\"Вероятность того, что от одной до двух деталей выйдут из строя: {p_one_to_two_fail}\")"
      ],
      "metadata": {
        "colab": {
          "base_uri": "https://localhost:8080/"
        },
        "id": "W2JU9ej14ONm",
        "outputId": "57b5da62-3a52-426f-a0dd-e9d8f780c732"
      },
      "execution_count": null,
      "outputs": [
        {
          "output_type": "stream",
          "name": "stdout",
          "text": [
            "Вероятность того, что все детали выйдут из строя: 0.005000000000000001\n",
            "Вероятность того, что только две детали выйдут из строя: 0.08000000000000002\n",
            "Вероятность того, что хотя бы одна деталь выйдет из строя: 0.45999999999999996\n",
            "Вероятность того, что от одной до двух деталей выйдут из строя: 0.45499999999999996\n"
          ]
        }
      ]
    },
    {
      "cell_type": "markdown",
      "source": [
        "# 4_ая задача"
      ],
      "metadata": {
        "id": "Y2k_aztAzy3q"
      }
    },
    {
      "cell_type": "markdown",
      "source": [
        "▎1. Среднее значение и дисперсия случайной величины A\n",
        "\n",
        "Для случайной величины \\\\( A \\\\), которая имеет равномерное распределение на промежутке \\\\((a, b]\\\\), среднее значение \\\\( M(A) \\\\) и дисперсия \\\\( D(A) \\\\) находятся по следующим формулам:\n",
        "\n",
        "- Среднее значение: \\\\( M(A) = \\\\frac{a + b}{2} \\\\)\n",
        "- Дисперсия: \\\\( D(A) = \\\\frac{(b - a)^2}{12} \\\\)\n",
        "\n",
        "В вашем случае \\\\( a = 200 \\\\) и \\\\( b = 800 \\\\)."
      ],
      "metadata": {
        "id": "Gis15N-w0E3Q"
      }
    },
    {
      "cell_type": "code",
      "source": [
        "# Параметры распределения A\n",
        "a = 200\n",
        "b = 800\n",
        "\n",
        "# Среднее значение и дисперсия\n",
        "mean_A = (a + b) / 2\n",
        "variance_A = ((b - a) ** 2) / 12\n",
        "\n",
        "mean_A, variance_A"
      ],
      "metadata": {
        "colab": {
          "base_uri": "https://localhost:8080/"
        },
        "id": "bM_oC3hAz4tM",
        "outputId": "79ecc10b-3cda-4278-e566-05aa1c43e472"
      },
      "execution_count": null,
      "outputs": [
        {
          "output_type": "execute_result",
          "data": {
            "text/plain": [
              "(500.0, 30000.0)"
            ]
          },
          "metadata": {},
          "execution_count": 1
        }
      ]
    },
    {
      "cell_type": "markdown",
      "source": [
        "▎2. Правая граница и среднее значение случайной величины B\n",
        "\n",
        "Известно, что дисперсия равна 0.2 и левая граница равна 0.5. Используем формулу для дисперсии, чтобы найти правую границу \\\\( b \\\\):\n",
        "\n",
        "\\\\[ D(B) = \\\\frac{(b - a)^2}{12} \\\\]\n",
        "\n",
        "Подставляем известные значения:\n",
        "\n",
        "\\\\[ 0.2 = \\\\frac{(b - 0.5)^2}{12} \\\\]\n",
        "\n",
        "Решаем это уравнение для \\\\( b \\\\)."
      ],
      "metadata": {
        "id": "3Y9Z5WKt0INL"
      }
    },
    {
      "cell_type": "code",
      "source": [
        "import sympy as sp\n",
        "\n",
        "# Дисперсия и левая граница\n",
        "variance_B = 0.2\n",
        "a_B = 0.5\n",
        "\n",
        "# Переменная для правой границы\n",
        "b_B = sp.Symbol('b')\n",
        "\n",
        "# Уравнение для дисперсии\n",
        "equation = sp.Eq(((b_B - a_B)**2) / 12, variance_B)\n",
        "\n",
        "# Решение уравнения\n",
        "b_B_solution = sp.solve(equation, b_B)\n",
        "b_B_solution = [sol.evalf() for sol in b_B_solution if sol > a_B]\n",
        "\n",
        "# Среднее значение\n",
        "mean_B = (a_B + b_B_solution[0]) / 2\n",
        "\n",
        "b_B_solution[0], mean_B\n"
      ],
      "metadata": {
        "colab": {
          "base_uri": "https://localhost:8080/"
        },
        "id": "mSoodsHfz6Ij",
        "outputId": "b31d9fdc-c390-42f2-ed6b-effe94b0dd1d"
      },
      "execution_count": null,
      "outputs": [
        {
          "output_type": "execute_result",
          "data": {
            "text/plain": [
              "(2.04919333848297, 1.27459666924148)"
            ]
          },
          "metadata": {},
          "execution_count": 2
        }
      ]
    },
    {
      "cell_type": "markdown",
      "source": [
        "▎3. Нормальное распределение X\n",
        "\n",
        "Дана плотность распределения:\n",
        "\n",
        "\\\\[ f(x) = \\\\frac{1}{4\\\\sqrt{2\\\\pi}} \\\\exp\\\\left(-\\\\frac{(x+2)^2}{32}\\\\right) \\\\]\n",
        "\n",
        "Это плотность нормального распределения с параметрами:\n",
        "\n",
        "- Среднее значение \\\\( M(X) = -2 \\\\)\n",
        "- Стандартное отклонение \\\\( \\\\sigma(X) = 4 \\\\)\n",
        "- Дисперсия \\\\( D(X) = \\\\sigma^2(X) = 16 \\\\)"
      ],
      "metadata": {
        "id": "7RfyhpF80JkW"
      }
    },
    {
      "cell_type": "code",
      "source": [
        "# Параметры нормального распределения\n",
        "mean_X = -2\n",
        "std_X = 4\n",
        "variance_X = std_X ** 2\n",
        "\n",
        "mean_X, variance_X, std_X\n"
      ],
      "metadata": {
        "colab": {
          "base_uri": "https://localhost:8080/"
        },
        "id": "pP8UfVXqz6TY",
        "outputId": "47fe1379-3b84-4b44-eaa1-3ca812fe513b"
      },
      "execution_count": null,
      "outputs": [
        {
          "output_type": "execute_result",
          "data": {
            "text/plain": [
              "(-2, 16, 4)"
            ]
          },
          "metadata": {},
          "execution_count": 3
        }
      ]
    },
    {
      "cell_type": "markdown",
      "source": [
        "▎4. Вероятности для нормального распределения роста\n",
        "\n",
        "Средний рост \\\\( \\\\mu = 174 \\\\), стандартное отклонение \\\\( \\\\sigma = 8 \\\\).\n",
        "\n",
        "Используем функцию scipy.stats.norm для вычисления вероятностей."
      ],
      "metadata": {
        "id": "vOS4a2JJ0KDu"
      }
    },
    {
      "cell_type": "code",
      "source": [
        "from scipy.stats import norm\n",
        "\n",
        "# Параметры распределения роста\n",
        "mu = 174\n",
        "sigma = 8\n",
        "\n",
        "# Вероятности\n",
        "p_a = 1 - norm.cdf(182, mu, sigma)\n",
        "p_b = 1 - norm.cdf(190, mu, sigma)\n",
        "p_c = norm.cdf(190, mu, sigma) - norm.cdf(166, mu, sigma)\n",
        "p_d = norm.cdf(182, mu, sigma) - norm.cdf(166, mu, sigma)\n",
        "p_e = norm.cdf(190, mu, sigma) - norm.cdf(158, mu, sigma)\n",
        "p_f = norm.cdf(150, mu, sigma) + (1 - norm.cdf(190, mu, sigma))\n",
        "p_g = norm.cdf(150, mu, sigma) + (1 - norm.cdf(198, mu, sigma))\n",
        "p_h = norm.cdf(166, mu, sigma)\n",
        "\n",
        "p_a, p_b, p_c, p_d, p_e, p_f, p_g, p_h\n"
      ],
      "metadata": {
        "colab": {
          "base_uri": "https://localhost:8080/"
        },
        "id": "RC-jwI-4z6bi",
        "outputId": "c5af395e-597c-4cc9-8c3e-525d1cbc72a4"
      },
      "execution_count": null,
      "outputs": [
        {
          "output_type": "execute_result",
          "data": {
            "text/plain": [
              "(0.15865525393145707,\n",
              " 0.02275013194817921,\n",
              " 0.8185946141203637,\n",
              " 0.6826894921370859,\n",
              " 0.9544997361036416,\n",
              " 0.0241000299798093,\n",
              " 0.0026997960632601965,\n",
              " 0.15865525393145707)"
            ]
          },
          "metadata": {},
          "execution_count": 4
        }
      ]
    },
    {
      "cell_type": "markdown",
      "source": [
        "Чтобы определить, на сколько сигм (средних квадратичных отклонений) отклоняется рост человека от математического ожидания, нужно выполнить следующие шаги:\n",
        "\n",
        "1. Вычислить среднеквадратичное отклонение \\\\(\\\\sigma\\\\), которое является квадратным корнем из дисперсии \\\\(D(X)\\\\).\n",
        "2. Найти разницу между ростом человека и математическим ожиданием.\n",
        "3. Разделить эту разницу на среднеквадратичное отклонение \\\\(\\\\sigma\\\\)."
      ],
      "metadata": {
        "id": "zwkIo2w30KiT"
      }
    },
    {
      "cell_type": "code",
      "source": [
        "import math\n",
        "\n",
        "# Данные задачи\n",
        "mu = 178  # математическое ожидание M(X)\n",
        "variance = 25  # дисперсия D(X)\n",
        "height = 190  # рост человека\n",
        "\n",
        "# Вычисляем среднеквадратичное отклонение\n",
        "sigma = math.sqrt(variance)\n",
        "\n",
        "# Вычисляем количество сигм\n",
        "sigma_deviation = (height - mu) / sigma\n",
        "\n",
        "print(f\"Рост человека отклоняется на {sigma_deviation:.2f} сигм от математического ожидания.\")"
      ],
      "metadata": {
        "id": "XUz_TwHE6OxF",
        "outputId": "411c2f39-2efe-4e35-8ece-545c9859588a",
        "colab": {
          "base_uri": "https://localhost:8080/"
        }
      },
      "execution_count": null,
      "outputs": [
        {
          "output_type": "stream",
          "name": "stdout",
          "text": [
            "Рост человека отклоняется на 2.40 сигм от математического ожидания.\n"
          ]
        }
      ]
    },
    {
      "cell_type": "markdown",
      "source": [
        "# 5-ая задача"
      ],
      "metadata": {
        "id": "uJjAZIlFZMfj"
      }
    },
    {
      "cell_type": "markdown",
      "source": [
        "▎Задача 1\n",
        "\n",
        "▎Критерий Стьюдента и Z-критерий\n",
        "\n",
        "Критерий Стьюдента (t-критерий) используется, когда:\n",
        "- Размер выборки мал (обычно n < 30).\n",
        "- Дисперсия генеральной совокупности неизвестна.\n",
        "- Данные распределены нормально.\n",
        "\n",
        "Z-критерий используется, когда:\n",
        "- Размер выборки велик (обычно n ≥ 30).\n",
        "- Дисперсия генеральной совокупности известна.\n",
        "- Данные распределены нормально или близки к нормальному распределению."
      ],
      "metadata": {
        "id": "9RJ5NbaaZTnx"
      }
    },
    {
      "cell_type": "markdown",
      "source": [
        "▎Задача 2\n",
        "\n",
        "Проверим гипотезу о среднем диаметре шариков:\n",
        "\n",
        "- Нулевая гипотеза (H0): Средний диаметр = 17 мм.\n",
        "- Альтернативная гипотеза (H1): Средний диаметр > 17 мм.\n",
        "\n",
        "Используем Z-критерий, так как дисперсия известна и выборка велика.\n",
        "\n",
        "Параметры:\n",
        "- Среднее выборки (\\\\(\\\\bar{x}\\\\)) = 17.5 мм\n",
        "- Среднее генеральной совокупности (\\\\(\\\\mu\\\\)) = 17 мм\n",
        "- Дисперсия (\\\\(\\\\sigma^2\\\\)) = 4 кв. мм\n",
        "- Размер выборки (n) = 100\n",
        "- Уровень значимости (\\\\(\\\\alpha\\\\)) = 0.05\n",
        "\n",
        "Формула для Z-критерия:\n",
        "\\\\[ Z = \\\\frac{\\\\bar{x} - \\\\mu}{\\\\sigma / \\\\sqrt{n}} \\\\]\n",
        "\n",
        "Где \\\\(\\\\sigma\\\\) — стандартное отклонение, равное \\\\(\\\\sqrt{4} = 2\\\\).\n",
        "\n",
        "\\\\[ Z = \\\\frac{17.5 - 17}{2 / \\\\sqrt{100}} = \\\\frac{0.5}{0.2} = 2.5 \\\\]\n",
        "\n",
        "Критическое значение Z для \\\\(\\\\alpha = 0.05\\\\) в одностороннем тесте примерно равно 1.645.\n",
        "\n",
        "Поскольку 2.5 > 1.645, мы отвергаем нулевую гипотезу. Таким образом, средний диаметр больше 17 мм."
      ],
      "metadata": {
        "id": "uP8wnZkNZY5w"
      }
    },
    {
      "cell_type": "markdown",
      "source": [
        "▎Задача 3\n",
        "\n",
        "Проверим гипотезу о среднем весе пачки печенья:\n",
        "\n",
        "- Нулевая гипотеза (H0): Средний вес = 200 г.\n",
        "- Альтернативная гипотеза (H1): Средний вес ≠ 200 г.\n",
        "\n",
        "Используем t-критерий, так как дисперсия неизвестна и выборка мала.\n",
        "\n",
        "Данные: [202, 203, 199, 197, 195, 201, 200, 204, 194, 190]\n",
        "\n",
        "1. Найдем среднее выборки (\\\\(\\\\bar{x}\\\\)) и стандартное отклонение (s).\n",
        "\n",
        "\\\\[\n",
        "\\\\bar{x} = \\\\frac{202 + 203 + 199 + 197 + 195 + 201 + 200 + 204 + 194 + 190}{10} = 198.5\n",
        "\\\\]\n",
        "\n",
        "2. Стандартное отклонение:\n",
        "\\\\[ s = \\\\sqrt{\\\\frac{\\\\sum (x_i - \\\\bar{x})^2}{n-1}} \\\\]\n",
        "\n",
        "Вычислим \\\\(s\\\\):\n",
        "\n",
        "\\\\[\n",
        "s = \\\\sqrt{\\\\frac{(202-198.5)^2 + (203-198.5)^2 + ... + (190-198.5)^2}{9}} \\\\approx 4.28\n",
        "\\\\]\n",
        "\n",
        "3. Вычислим t-статистику:\n",
        "\n",
        "\\\\[ t = \\\\frac{\\\\bar{x} - \\\\mu}{s / \\\\sqrt{n}} = \\\\frac{198.5 - 200}{4.28 / \\\\sqrt{10}} \\\\approx -1.11 \\\\]\n",
        "\n",
        "Для двустороннего теста с уровнем значимости \\\\(0.01\\\\) и степенями свободы \\\\(n-1=9\\\\), критическое значение t примерно равно ±3.25.\n",
        "\n",
        "Поскольку -1.11 находится в пределах критических значений (-3.25, 3.25), мы не можем отвергнуть нулевую гипотезу. Таким образом, утверждение продавца верно."
      ],
      "metadata": {
        "id": "MgD4wkzYZklG"
      }
    },
    {
      "cell_type": "markdown",
      "source": [
        "▎Задача 4\n",
        "\n",
        "Проверим различия в росте матерей и дочерей с помощью функции в Python:"
      ],
      "metadata": {
        "id": "_hHdZktRZsG3"
      }
    },
    {
      "cell_type": "code",
      "source": [
        "import scipy.stats as stats\n",
        "\n",
        "mothers_height = [172, 177, 158, 170, 178, 175, 164, 160, 169, 165]\n",
        "daughters_height = [173, 175, 162, 174, 175, 168, 155, 170, 160]\n",
        "\n",
        "# Проведение t-теста для независимых выборок\n",
        "t_statistic, p_value = stats.ttest_ind(mothers_height, daughters_height)\n",
        "\n",
        "# Уровень значимости\n",
        "alpha = 0.05\n",
        "\n",
        "print(f\"t-statistic: {t_statistic}, p-value: {p_value}\")\n",
        "\n",
        "if p_value < alpha:\n",
        "    print(\"Есть статистически значимые различия в росте.\")\n",
        "else:\n",
        "    print(\"Нет статистически значимых различий в росте.\")\n"
      ],
      "metadata": {
        "id": "GxShPQ79ZTDU",
        "outputId": "3243360f-6117-4b61-de7e-a2425af28813",
        "colab": {
          "base_uri": "https://localhost:8080/"
        }
      },
      "execution_count": null,
      "outputs": [
        {
          "output_type": "stream",
          "name": "stdout",
          "text": [
            "t-statistic: 0.24400587215969016, p-value: 0.8101467126543231\n",
            "Нет статистически значимых различий в росте.\n"
          ]
        }
      ]
    },
    {
      "cell_type": "markdown",
      "source": [
        "Этот код выполняет t-тест для независимых выборок и выводит результат о наличии или отсутствии статистически значимых различий в росте матерей и дочерей.\n",
        "\n",
        "Запустив этот код, вы получите результат о наличии или отсутствии статистически значимых различий в росте матерей и дочерей на уровне значимости \\\\(0.05\\\\)."
      ],
      "metadata": {
        "id": "55jC_Cc1Zx2C"
      }
    },
    {
      "cell_type": "markdown",
      "source": [
        "# 6-ая задача"
      ],
      "metadata": {
        "id": "0FHiBP3cFvAB"
      }
    },
    {
      "cell_type": "markdown",
      "source": [
        "Для первой задачи, когда известно стандартное отклонение генеральной совокупности, используем нормальное распределение для расчета доверительного интервала."
      ],
      "metadata": {
        "id": "jLo-zzx_F2mE"
      }
    },
    {
      "cell_type": "code",
      "source": [
        "import scipy.stats as stats\n",
        "import numpy as np\n",
        "\n",
        "# Данные задачи\n",
        "sigma = 16  # Среднее квадратическое отклонение\n",
        "M = 80  # Выборочная средняя\n",
        "n = 256  # Объем выборки\n",
        "confidence_level = 0.95\n",
        "\n",
        "# Расчет доверительного интервала\n",
        "z_score = stats.norm.ppf((1 + confidence_level) / 2)\n",
        "margin_of_error = z_score * (sigma / np.sqrt(n))\n",
        "confidence_interval = (M - margin_of_error, M + margin_of_error)\n",
        "\n",
        "print(\"Доверительный интервал для математического ожидания:\", confidence_interval)\n"
      ],
      "metadata": {
        "colab": {
          "base_uri": "https://localhost:8080/"
        },
        "id": "G1_w7CpNF2vj",
        "outputId": "fe2233e3-8551-48d8-95eb-ed3733db2cc3"
      },
      "execution_count": 1,
      "outputs": [
        {
          "output_type": "stream",
          "name": "stdout",
          "text": [
            "Доверительный интервал для математического ожидания: (78.04003601545995, 81.95996398454005)\n"
          ]
        }
      ]
    },
    {
      "cell_type": "markdown",
      "source": [
        "Во второй задаче стандартное отклонение выборки неизвестно, поэтому используем t-распределение."
      ],
      "metadata": {
        "id": "JhVb3SWDF3E3"
      }
    },
    {
      "cell_type": "code",
      "source": [
        "# Данные задачи\n",
        "data = [6.9, 6.1, 6.2, 6.8, 7.5, 6.3, 6.4, 6.9, 6.7, 6.1]\n",
        "n = len(data)\n",
        "confidence_level = 0.95\n",
        "\n",
        "# Расчет выборочной средней и стандартного отклонения\n",
        "sample_mean = np.mean(data)\n",
        "sample_std = np.std(data, ddof=1)  # ddof=1 для несмещенной оценки\n",
        "\n",
        "# Расчет доверительного интервала\n",
        "t_score = stats.t.ppf((1 + confidence_level) / 2, df=n-1)\n",
        "margin_of_error = t_score * (sample_std / np.sqrt(n))\n",
        "confidence_interval = (sample_mean - margin_of_error, sample_mean + margin_of_error)\n",
        "\n",
        "print(\"Доверительный интервал для истинного значения X:\", confidence_interval)\n"
      ],
      "metadata": {
        "colab": {
          "base_uri": "https://localhost:8080/"
        },
        "id": "5X8IXiZlF3L4",
        "outputId": "a7c309da-14bf-4b5a-81d3-1d511ba0eda4"
      },
      "execution_count": 2,
      "outputs": [
        {
          "output_type": "stream",
          "name": "stdout",
          "text": [
            "Доверительный интервал для истинного значения X: (6.267515851399589, 6.912484148600412)\n"
          ]
        }
      ]
    },
    {
      "cell_type": "markdown",
      "source": [
        "\n",
        "Для третьей задачи мы сравниваем средние значения двух зависимых выборок (рост дочерей и матерей), используя t-распределение.\n"
      ],
      "metadata": {
        "id": "hWyXRoWaF3Tz"
      }
    },
    {
      "cell_type": "code",
      "source": [
        "# Данные задачи\n",
        "daughters_height = [175, 167, 154, 174, 178, 148, 160, 167, 169, 170]\n",
        "mothers_height = [178, 165, 165, 173, 168, 155, 160, 164, 178, 175]\n",
        "confidence_level = 0.95\n",
        "\n",
        "# Расчет разности средних значений и стандартного отклонения разности\n",
        "differences = np.array(mothers_height) - np.array(daughters_height)\n",
        "mean_difference = np.mean(differences)\n",
        "std_difference = np.std(differences, ddof=1)\n",
        "\n",
        "# Расчет доверительного интервала\n",
        "n = len(differences)\n",
        "t_score = stats.t.ppf((1 + confidence_level) / 2, df=n-1)\n",
        "margin_of_error = t_score * (std_difference / np.sqrt(n))\n",
        "confidence_interval = (mean_difference - margin_of_error, mean_difference + margin_of_error)\n",
        "\n",
        "print(\"Доверительный интервал для разности среднего роста:\", confidence_interval)\n"
      ],
      "metadata": {
        "colab": {
          "base_uri": "https://localhost:8080/"
        },
        "id": "fmUbZtcjF3aU",
        "outputId": "18359f66-f7ef-4c89-acc0-8c28d1ed4751"
      },
      "execution_count": 3,
      "outputs": [
        {
          "output_type": "stream",
          "name": "stdout",
          "text": [
            "Доверительный интервал для разности среднего роста: (-2.6425007065225032, 6.4425007065225035)\n"
          ]
        }
      ]
    },
    {
      "cell_type": "markdown",
      "source": [
        "# 7-ая задача"
      ],
      "metadata": {
        "id": "xh_ReN1iG5FF"
      }
    },
    {
      "cell_type": "markdown",
      "source": [
        "Задача 1\n",
        "\n",
        "Для сравнения двух независимых выборок, когда не соблюдается условие нормальности, используем критерий Манна-Уитни."
      ],
      "metadata": {
        "id": "6fzlibqdG-xl"
      }
    },
    {
      "cell_type": "code",
      "source": [
        "import scipy.stats as stats\n",
        "\n",
        "# Данные\n",
        "x1 = [380, 420, 290]\n",
        "y1 = [140, 360, 200, 900]\n",
        "\n",
        "# Критерий Манна-Уитни\n",
        "statistic, p_value = stats.mannwhitneyu(x1, y1, alternative='two-sided')\n",
        "\n",
        "print(\"Статистика Манна-Уитни:\", statistic)\n",
        "print(\"p-value:\", p_value)\n",
        "\n",
        "if p_value < 0.05:\n",
        "    print(\"Есть статистически значимые различия между выборками.\")\n",
        "else:\n",
        "    print(\"Нет статистически значимых различий между выборками.\")\n"
      ],
      "metadata": {
        "colab": {
          "base_uri": "https://localhost:8080/"
        },
        "id": "m-6ctSdUG-36",
        "outputId": "fd70c685-7999-49c1-eac3-ffc7282cdfc4"
      },
      "execution_count": 4,
      "outputs": [
        {
          "output_type": "stream",
          "name": "stdout",
          "text": [
            "Статистика Манна-Уитни: 8.0\n",
            "p-value: 0.6285714285714286\n",
            "Нет статистически значимых различий между выборками.\n"
          ]
        }
      ]
    },
    {
      "cell_type": "markdown",
      "source": [
        "Задача 2\n",
        "\n",
        "Для проверки значимых различий в повторных измерениях (до и после приема препарата) используем критерий Фридмана."
      ],
      "metadata": {
        "id": "pfDKXYqhG-_F"
      }
    },
    {
      "cell_type": "code",
      "source": [
        "# Данные\n",
        "before = [150, 160, 165, 145, 155]\n",
        "after_10_min = [140, 155, 150, 130, 135]\n",
        "after_30_min = [130, 130, 120, 130, 125]\n",
        "\n",
        "# Критерий Фридмана\n",
        "statistic, p_value = stats.friedmanchisquare(before, after_10_min, after_30_min)\n",
        "\n",
        "print(\"Статистика Фридмана:\", statistic)\n",
        "print(\"p-value:\", p_value)\n",
        "\n",
        "if p_value < 0.05:\n",
        "    print(\"Есть статистически значимые различия между измерениями.\")\n",
        "else:\n",
        "    print(\"Нет статистически значимых различий между измерениями.\")\n"
      ],
      "metadata": {
        "colab": {
          "base_uri": "https://localhost:8080/"
        },
        "id": "A0fdPBuGG_Fk",
        "outputId": "3558ae37-93a8-4dd6-c9af-18fe4f161370"
      },
      "execution_count": 5,
      "outputs": [
        {
          "output_type": "stream",
          "name": "stdout",
          "text": [
            "Статистика Фридмана: 9.578947368421062\n",
            "p-value: 0.00831683351100441\n",
            "Есть статистически значимые различия между измерениями.\n"
          ]
        }
      ]
    },
    {
      "cell_type": "markdown",
      "source": [
        "Задача 3\n",
        "\n",
        "Для сравнения двух связанных выборок используем критерий Уилкоксона.\n"
      ],
      "metadata": {
        "id": "mG-DekG1G_LW"
      }
    },
    {
      "cell_type": "code",
      "source": [
        "# Критерий Уилкоксона\n",
        "statistic, p_value = stats.wilcoxon(before, after_10_min)\n",
        "\n",
        "print(\"Статистика Уилкоксона:\", statistic)\n",
        "print(\"p-value:\", p_value)\n",
        "\n",
        "if p_value < 0.05:\n",
        "    print(\"Есть статистически значимые различия между первым и вторым измерениями.\")\n",
        "else:\n",
        "    print(\"Нет статистически значимых различий между первым и вторым измерениями.\")\n"
      ],
      "metadata": {
        "colab": {
          "base_uri": "https://localhost:8080/"
        },
        "id": "DTdxRJaLG_Rg",
        "outputId": "f4e48c34-f189-449a-ebef-7178c276532e"
      },
      "execution_count": 6,
      "outputs": [
        {
          "output_type": "stream",
          "name": "stdout",
          "text": [
            "Статистика Уилкоксона: 0.0\n",
            "p-value: 0.0625\n",
            "Нет статистически значимых различий между первым и вторым измерениями.\n"
          ]
        }
      ]
    },
    {
      "cell_type": "markdown",
      "source": [
        "Задача 4\n",
        "\n",
        "Для сравнения более двух групп используем критерий Крускала-Уоллиса."
      ],
      "metadata": {
        "id": "3mN-KMt-G_cX"
      }
    },
    {
      "cell_type": "code",
      "source": [
        "# Данные\n",
        "group1 = [56, 60, 62, 55, 71, 67, 59, 58, 64, 67]\n",
        "group2 = [57, 58, 69, 48, 72, 70, 68, 71, 50, 53]\n",
        "group3 = [57, 67, 49, 48, 47, 55, 66, 51, 54]\n",
        "\n",
        "# Критерий Крускала-Уоллиса\n",
        "statistic, p_value = stats.kruskal(group1, group2, group3)\n",
        "\n",
        "print(\"Статистика Крускала-Уоллиса:\", statistic)\n",
        "print(\"p-value:\", p_value)\n",
        "\n",
        "if p_value < 0.05:\n",
        "    print(\"Есть статистически значимые различия между группами.\")\n",
        "else:\n",
        "    print(\"Нет статистически значимых различий между группами.\")\n"
      ],
      "metadata": {
        "colab": {
          "base_uri": "https://localhost:8080/"
        },
        "id": "Kxo9ljWUG_iR",
        "outputId": "8e13bc6b-d5cc-41cf-872f-229c996b8fa6"
      },
      "execution_count": 8,
      "outputs": [
        {
          "output_type": "stream",
          "name": "stdout",
          "text": [
            "Статистика Крускала-Уоллиса: 5.465564058257224\n",
            "p-value: 0.0650380998590494\n",
            "Нет статистически значимых различий между группами.\n"
          ]
        }
      ]
    },
    {
      "cell_type": "markdown",
      "source": [
        "Задача 5\n",
        "\n",
        "Для проверки гипотезы о среднем используем t-критерий для одной выборки.\n",
        "\n",
        "Гипотеза:\n",
        "- Нулевая гипотеза \\\\(H_0\\\\): \\\\(\\\\mu = 2.5\\\\)\n",
        "- Альтернативная гипотеза \\\\(H_1\\\\): \\\\(\\\\mu \\\\neq 2.5\\\\)"
      ],
      "metadata": {
        "id": "iQ-UtcxrHPtg"
      }
    },
    {
      "cell_type": "code",
      "source": [
        "import numpy as np\n",
        "\n",
        "# Данные\n",
        "sample = [2.51, 2.35, 2.74, 2.56, 2.40, 2.36, 2.65, 2.7, 2.67, 2.34]\n",
        "population_mean = 2.5\n",
        "\n",
        "# Расчет t-критерия\n",
        "t_statistic, p_value = stats.ttest_1samp(sample, population_mean)\n",
        "\n",
        "print(\"t-статистика:\", t_statistic)\n",
        "print(\"p-value:\", p_value)\n",
        "\n",
        "alpha = 0.05\n",
        "if p_value < alpha:\n",
        "    print(\"Отклоняем нулевую гипотезу: среднее отличается от заявленного.\")\n",
        "else:\n",
        "    print(\"Не отклоняем нулевую гипотезу: среднее не отличается от заявленного.\")\n"
      ],
      "metadata": {
        "colab": {
          "base_uri": "https://localhost:8080/"
        },
        "id": "eRa2DN5PHP0e",
        "outputId": "c8203cff-5891-46e6-b1b7-e8db02b27ea0"
      },
      "execution_count": 7,
      "outputs": [
        {
          "output_type": "stream",
          "name": "stdout",
          "text": [
            "t-статистика: 0.5630613661802959\n",
            "p-value: 0.5871439993940628\n",
            "Не отклоняем нулевую гипотезу: среднее не отличается от заявленного.\n"
          ]
        }
      ]
    }
  ]
}