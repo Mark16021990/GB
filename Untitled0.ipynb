{
  "nbformat": 4,
  "nbformat_minor": 0,
  "metadata": {
    "colab": {
      "provenance": [],
      "toc_visible": true,
      "authorship_tag": "ABX9TyPNWyNgibFqle90ZZVnbZv1",
      "include_colab_link": true
    },
    "kernelspec": {
      "name": "python3",
      "display_name": "Python 3"
    },
    "language_info": {
      "name": "python"
    }
  },
  "cells": [
    {
      "cell_type": "markdown",
      "metadata": {
        "id": "view-in-github",
        "colab_type": "text"
      },
      "source": [
        "<a href=\"https://colab.research.google.com/github/Mark16021990/GB/blob/main/Untitled0.ipynb\" target=\"_parent\"><img src=\"https://colab.research.google.com/assets/colab-badge.svg\" alt=\"Open In Colab\"/></a>"
      ]
    },
    {
      "cell_type": "markdown",
      "source": [
        "# 1 задача по теории вероятности"
      ],
      "metadata": {
        "id": "2aZBGUkOI-xu"
      }
    },
    {
      "cell_type": "code",
      "execution_count": null,
      "metadata": {
        "id": "zC2lnT6LIIQF",
        "outputId": "42d29761-bfbd-416d-c002-931af18f3e64",
        "colab": {
          "base_uri": "https://localhost:8080/"
        }
      },
      "outputs": [
        {
          "output_type": "stream",
          "name": "stdout",
          "text": [
            "Вероятность, что все карты – крести: 0.00264\n",
            "Вероятность, что среди 4-х карт хотя бы один туз: 0.28126\n",
            "Вероятность открыть дверь с первой попытки: 0.00833\n",
            "Вероятность, что все извлеченные детали окрашены: 0.18462\n",
            "Вероятность, что оба билета выигрышные: 0.00020\n"
          ]
        }
      ],
      "source": [
        "from math import comb\n",
        "\n",
        "# Задача 1a\n",
        "prob_all_clubs = comb(13, 4) / comb(52, 4)\n",
        "\n",
        "# Задача 1b\n",
        "prob_no_aces = comb(48, 4) / comb(52, 4)\n",
        "prob_at_least_one_ace = 1 - prob_no_aces\n",
        "\n",
        "# Задача 2\n",
        "prob_unlock_code = 1 / comb(10, 3)\n",
        "\n",
        "# Задача 3\n",
        "prob_all_painted = comb(9, 3) / comb(15, 3)\n",
        "\n",
        "# Задача 4\n",
        "prob_both_winning_tickets = comb(2, 2) / comb(100, 2)\n",
        "\n",
        "print(f\"Вероятность, что все карты – крести: {prob_all_clubs:.5f}\")\n",
        "print(f\"Вероятность, что среди 4-х карт хотя бы один туз: {prob_at_least_one_ace:.5f}\")\n",
        "print(f\"Вероятность открыть дверь с первой попытки: {prob_unlock_code:.5f}\")\n",
        "print(f\"Вероятность, что все извлеченные детали окрашены: {prob_all_painted:.5f}\")\n",
        "print(f\"Вероятность, что оба билета выигрышные: {prob_both_winning_tickets:.5f}\")\n"
      ]
    }
  ]
}