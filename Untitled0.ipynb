{
  "nbformat": 4,
  "nbformat_minor": 0,
  "metadata": {
    "colab": {
      "provenance": [],
      "toc_visible": true,
      "authorship_tag": "ABX9TyPyRCAkR5Yf5L3tQ9bR5sCt",
      "include_colab_link": true
    },
    "kernelspec": {
      "name": "python3",
      "display_name": "Python 3"
    },
    "language_info": {
      "name": "python"
    }
  },
  "cells": [
    {
      "cell_type": "markdown",
      "metadata": {
        "id": "view-in-github",
        "colab_type": "text"
      },
      "source": [
        "<a href=\"https://colab.research.google.com/github/Mark16021990/GB/blob/main/Untitled0.ipynb\" target=\"_parent\"><img src=\"https://colab.research.google.com/assets/colab-badge.svg\" alt=\"Open In Colab\"/></a>"
      ]
    },
    {
      "cell_type": "markdown",
      "source": [
        "# 1 задача по теории вероятности"
      ],
      "metadata": {
        "id": "2aZBGUkOI-xu"
      }
    },
    {
      "cell_type": "code",
      "execution_count": null,
      "metadata": {
        "id": "zC2lnT6LIIQF",
        "outputId": "42d29761-bfbd-416d-c002-931af18f3e64",
        "colab": {
          "base_uri": "https://localhost:8080/"
        }
      },
      "outputs": [
        {
          "output_type": "stream",
          "name": "stdout",
          "text": [
            "Вероятность, что все карты – крести: 0.00264\n",
            "Вероятность, что среди 4-х карт хотя бы один туз: 0.28126\n",
            "Вероятность открыть дверь с первой попытки: 0.00833\n",
            "Вероятность, что все извлеченные детали окрашены: 0.18462\n",
            "Вероятность, что оба билета выигрышные: 0.00020\n"
          ]
        }
      ],
      "source": [
        "from math import comb\n",
        "\n",
        "# Задача 1a\n",
        "prob_all_clubs = comb(13, 4) / comb(52, 4)\n",
        "\n",
        "# Задача 1b\n",
        "prob_no_aces = comb(48, 4) / comb(52, 4)\n",
        "prob_at_least_one_ace = 1 - prob_no_aces\n",
        "\n",
        "# Задача 2\n",
        "prob_unlock_code = 1 / comb(10, 3)\n",
        "\n",
        "# Задача 3\n",
        "prob_all_painted = comb(9, 3) / comb(15, 3)\n",
        "\n",
        "# Задача 4\n",
        "prob_both_winning_tickets = comb(2, 2) / comb(100, 2)\n",
        "\n",
        "print(f\"Вероятность, что все карты – крести: {prob_all_clubs:.5f}\")\n",
        "print(f\"Вероятность, что среди 4-х карт хотя бы один туз: {prob_at_least_one_ace:.5f}\")\n",
        "print(f\"Вероятность открыть дверь с первой попытки: {prob_unlock_code:.5f}\")\n",
        "print(f\"Вероятность, что все извлеченные детали окрашены: {prob_all_painted:.5f}\")\n",
        "print(f\"Вероятность, что оба билета выигрышные: {prob_both_winning_tickets:.5f}\")\n"
      ]
    },
    {
      "cell_type": "markdown",
      "source": [
        "# 2-ая задача с применением формулы Бернули"
      ],
      "metadata": {
        "id": "bRabKdX576W4"
      }
    },
    {
      "cell_type": "code",
      "source": [
        "from scipy.stats import binom\n",
        "from math import comb\n",
        "\n",
        "# Задача 1: Вероятность ровно 85 попаданий из 100 выстрелов\n",
        "p_hit = 0.8\n",
        "n_shots = 100\n",
        "k_hits = 85\n",
        "prob_85_hits = binom.pmf(k_hits, n_shots, p_hit)\n",
        "print(f\"Вероятность того, что стрелок попадет в цель ровно 85 раз: {prob_85_hits:.6f}\")\n",
        "\n",
        "# Задача 2: Лампочки\n",
        "p_burnout = 0.0004\n",
        "n_lamps = 5000\n",
        "\n",
        "# Вероятность, что ни одна не перегорит\n",
        "prob_no_burnout = binom.pmf(0, n_lamps, p_burnout)\n",
        "print(f\"Вероятность, что ни одна лампочка не перегорит: {prob_no_burnout:.6f}\")\n",
        "\n",
        "# Вероятность, что перегорят ровно две\n",
        "prob_two_burnout = binom.pmf(2, n_lamps, p_burnout)\n",
        "print(f\"Вероятность, что перегорят ровно две лампочки: {prob_two_burnout:.6f}\")\n",
        "\n",
        "# Задача 3: Монета, вероятность 70 орлов из 144 подбрасываний\n",
        "p_heads = 0.5\n",
        "n_flips = 144\n",
        "k_heads = 70\n",
        "prob_70_heads = binom.pmf(k_heads, n_flips, p_heads)\n",
        "print(f\"Вероятность, что орел выпадет ровно 70 раз: {prob_70_heads:.6f}\")\n",
        "\n",
        "# Задача 4: Мячи\n",
        "# Вероятность вытащить два белых мяча из первого ящика\n",
        "prob_two_white_first = comb(7, 2) / comb(10, 2)\n",
        "\n",
        "# Вероятность вытащить два белых мяча из второго ящика\n",
        "prob_two_white_second = comb(9, 2) / comb(11, 2)\n",
        "\n",
        "# Вероятность, что все мячи белые\n",
        "prob_all_white = prob_two_white_first * prob_two_white_second\n",
        "print(f\"Вероятность того, что все мячи белые: {prob_all_white:.6f}\")\n",
        "\n",
        "# Вероятность того, что ровно два мяча белые\n",
        "# Случаи:\n",
        "# - Два белых из первого и ни одного из второго\n",
        "prob_case1 = prob_two_white_first * (comb(2, 0) * comb(9, 2)) / comb(11, 2)\n",
        "\n",
        "# - Один белый из первого и один из второго\n",
        "prob_case2 = (comb(7, 1) * comb(3, 1) / comb(10, 2)) * (comb(9, 1) * comb(2, 1) / comb(11, 2))\n",
        "\n",
        "# - Ни одного из первого и два из второго\n",
        "prob_case3 = (comb(3, 2) / comb(10, 2)) * prob_two_white_second\n",
        "\n",
        "prob_two_white_total = prob_case1 + prob_case2 + prob_case3\n",
        "print(f\"Вероятность того, что ровно два мяча белые: {prob_two_white_total:.6f}\")\n",
        "\n",
        "# Вероятность того, что хотя бы один мяч белый\n",
        "# Это дополнение к вероятности того, что все мячи черные\n",
        "prob_all_black_first = (comb(3, 2) / comb(10, 2))\n",
        "prob_all_black_second = (comb(2, 2) / comb(11, 2))\n",
        "prob_all_black = prob_all_black_first * prob_all_black_second\n",
        "\n",
        "prob_at_least_one_white = 1 - prob_all_black\n",
        "print(f\"Вероятность того, что хотя бы один мяч белый: {prob_at_least_one_white:.6f}\")\n"
      ],
      "metadata": {
        "id": "yWtEUpss8D5G",
        "outputId": "5a27ab7a-0a92-4bf8-b545-ac7091abfde1",
        "colab": {
          "base_uri": "https://localhost:8080/"
        }
      },
      "execution_count": 1,
      "outputs": [
        {
          "output_type": "stream",
          "name": "stdout",
          "text": [
            "Вероятность того, что стрелок попадет в цель ровно 85 раз: 0.048062\n",
            "Вероятность, что ни одна лампочка не перегорит: 0.135281\n",
            "Вероятность, что перегорят ровно две лампочки: 0.270725\n",
            "Вероятность, что орел выпадет ровно 70 раз: 0.062812\n",
            "Вероятность того, что все мячи белые: 0.305455\n",
            "Вероятность того, что ровно два мяча белые: 0.501818\n",
            "Вероятность того, что хотя бы один мяч белый: 0.998788\n"
          ]
        }
      ]
    }
  ]
}