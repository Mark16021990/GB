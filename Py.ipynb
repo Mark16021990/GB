{
  "nbformat": 4,
  "nbformat_minor": 0,
  "metadata": {
    "colab": {
      "provenance": [],
      "toc_visible": true,
      "authorship_tag": "ABX9TyNuBMnbPP/bkeTe16/SP35P",
      "include_colab_link": true
    },
    "kernelspec": {
      "name": "python3",
      "display_name": "Python 3"
    },
    "language_info": {
      "name": "python"
    }
  },
  "cells": [
    {
      "cell_type": "markdown",
      "metadata": {
        "id": "view-in-github",
        "colab_type": "text"
      },
      "source": [
        "<a href=\"https://colab.research.google.com/github/Mark16021990/GB/blob/main/Py.ipynb\" target=\"_parent\"><img src=\"https://colab.research.google.com/assets/colab-badge.svg\" alt=\"Open In Colab\"/></a>"
      ]
    },
    {
      "cell_type": "code",
      "execution_count": null,
      "metadata": {
        "id": "a0FzColb42ub"
      },
      "outputs": [],
      "source": []
    },
    {
      "cell_type": "markdown",
      "source": [
        "# 1 урок"
      ],
      "metadata": {
        "id": "OWpZYzmV43qI"
      }
    },
    {
      "cell_type": "markdown",
      "source": [
        "Задание 1. Язык математик\n",
        "В первый же день на сайте отвалилась формула по расчёту рекламной\n",
        "метрики, и только Вася может её поправить. Часть программы с вводными\n",
        "данными представлена ниже, отдельно записана формула на математическом\n",
        "языке.\n",
        "Дана программа:\n",
        "a = 8\n",
        "b = 10\n",
        "c = 12\n",
        "d = 18\n",
        "Продолжите программу: переведите выражение с математического языка на\n",
        "язык Python, запишите его в переменную res и выведите результат."
      ],
      "metadata": {
        "id": "m0LAvkDr7Ble"
      }
    },
    {
      "cell_type": "code",
      "source": [
        "# Инициализация переменных с заданными значениями\n",
        "a = 8\n",
        "b = 10\n",
        "c = 12\n",
        "d = 18\n",
        "# Вычисление числителя формулы\n",
        "# - Сначала вычисляем возведение a в квадрат\n",
        "# - Затем прибавляем -3\n",
        "# - Умножаем результат на b\n",
        "# - Вычисляем 2 в степени 3 и вычитаем его из предыдущего результата\n",
        "dividend = ((-3 + a ** 2) * b - 2 ** 3)\n",
        "# Вычисление знаменателя формулы\n",
        "# - Умножаем 2 на d\n",
        "# - Вычисляем разность c и полученного результата\n",
        "divider = (c - 2 * d)\n",
        "# Вычисление результата деления числителя на знаменатель\n",
        "res = dividend / divider\n",
        "# Вывод результата на экран\n",
        "print(res)"
      ],
      "metadata": {
        "colab": {
          "base_uri": "https://localhost:8080/"
        },
        "id": "6ipYikg17JQp",
        "outputId": "553f00d3-c65c-484d-fa3f-b79e060c9d67"
      },
      "execution_count": null,
      "outputs": [
        {
          "output_type": "stream",
          "name": "stdout",
          "text": [
            "-25.083333333333332\n"
          ]
        }
      ]
    },
    {
      "cell_type": "markdown",
      "source": [
        "Задача 2. Часы\n",
        "Напишите программу, которая получает на вход число n (количество минут),\n",
        "затем считает, сколько это будет в часах и сколько минут останется, и выводит\n",
        "на экран эти два результата.\n"
      ],
      "metadata": {
        "id": "kVae9PGb7RnX"
      }
    },
    {
      "cell_type": "code",
      "source": [
        "# Ввод количества минут\n",
        "minutes = int(input('Введите количество минут: '))\n",
        "# Вычисление количества полных часов\n",
        "hours = minutes // 60\n",
        "# Вычисление оставшихся минут\n",
        "rest_minutes = minutes % 60\n",
        "# Вывод результатов\n",
        "print('Часов:', hours)\n",
        "print('Осталось минут:', rest_minutes)"
      ],
      "metadata": {
        "colab": {
          "base_uri": "https://localhost:8080/"
        },
        "id": "otYiPdX67bLE",
        "outputId": "739d9ac2-d47a-4075-a67a-72d77463de4f"
      },
      "execution_count": null,
      "outputs": [
        {
          "output_type": "stream",
          "name": "stdout",
          "text": [
            "Введите количество минут: 60\n",
            "Часов: 1\n",
            "Осталось минут: 0\n"
          ]
        }
      ]
    },
    {
      "cell_type": "markdown",
      "source": [
        "Задача 3. Счастливый билет\n",
        "Вы пользуетесь общественным транспортом? Вероятно, вы расплачивались за\n",
        "проезд и получали билет с номером.\n",
        "Счастливым билетом называют такой билет с шестизначным номером, где\n",
        "сумма первых трех цифр равна сумме последних трех.\n",
        "Т.е. билет с номером 385916 – счастливый, т.к. 3+8+5=9+1+6.\n",
        "Вам требуется написать программу, которая проверяет счастливость билета с\n",
        "номером n и выводит на экран yes или no."
      ],
      "metadata": {
        "id": "DXyHrSAS7ea_"
      }
    },
    {
      "cell_type": "code",
      "source": [
        "def is_lucky_ticket(ticket_number):\n",
        "    # Преобразуем номер билета в строку для удобства работы с цифрами\n",
        "    ticket_str = str(ticket_number)\n",
        "\n",
        "    # Проверяем, что номер билета состоит из 6 цифр\n",
        "    if len(ticket_str) != 6:\n",
        "        return \"no\"\n",
        "\n",
        "    # Разделяем номер на две части и вычисляем суммы\n",
        "    first_half_sum = sum(int(digit) for digit in ticket_str[:3])\n",
        "    second_half_sum = sum(int(digit) for digit in ticket_str[3:])\n",
        "\n",
        "    # Сравниваем суммы и возвращаем результат\n",
        "    if first_half_sum == second_half_sum:\n",
        "        return \"yes\"\n",
        "    else:\n",
        "        return \"no\"\n",
        "\n",
        "# Пример использования\n",
        "ticket_number = input(\"Введите шестизначный номер билета: \")\n",
        "print(is_lucky_ticket(ticket_number))\n"
      ],
      "metadata": {
        "colab": {
          "base_uri": "https://localhost:8080/"
        },
        "id": "rniP3IM-7fDc",
        "outputId": "8a8f2fa7-4650-4bbc-9f90-0a933e4613cc"
      },
      "execution_count": null,
      "outputs": [
        {
          "output_type": "stream",
          "name": "stdout",
          "text": [
            "Введите шестизначный номер билета: 123456\n",
            "no\n"
          ]
        }
      ]
    },
    {
      "cell_type": "markdown",
      "source": [
        "Задача 4. Площадь прямоугольного треугольника\n",
        "Прямоугольный треугольник — это треугольник, один из углов которого\n",
        "является прямым (90 градусов). У прямоугольного треугольника два катета,\n",
        "которые образуют прямой угол, и гипотенуза, противоположная этому углу.\n",
        "Вам требуется написать программу, которая запрашивает у пользователя\n",
        "длины двух катетов и выводит площадь треугольника.\n",
        "Площадь прямоугольного треугольника вычисляется по формуле:\n",
        "где a и b — длины катетов, а S — площадь.\n",
        "# Новый раздел"
      ],
      "metadata": {
        "id": "SDMWrJb67-94"
      }
    },
    {
      "cell_type": "code",
      "source": [
        "# Запрос длин катетов у пользователя\n",
        "leg_1 = int(input('Введите длину первого катета: '))\n",
        "leg_2 = int(input('Введите длину второго катета: '))\n",
        "# Вычисление площади по формуле\n",
        "square = leg_1 * leg_2 / 2\n",
        "# Вывод площади треугольника\n",
        "print('Площадь прямоугольного треугольника:', square)"
      ],
      "metadata": {
        "colab": {
          "base_uri": "https://localhost:8080/"
        },
        "id": "O-u_A9cj7_N0",
        "outputId": "4badb82e-877b-4c7a-91b5-939dca5bdcc9"
      },
      "execution_count": null,
      "outputs": [
        {
          "output_type": "stream",
          "name": "stdout",
          "text": [
            "Введите длину первого катета: 12\n",
            "Введите длину второго катета: 5\n",
            "Площадь прямоугольного треугольника: 30.0\n"
          ]
        }
      ]
    },
    {
      "cell_type": "markdown",
      "source": [
        "Задача 5*. Поменять местами: не всё так просто! (необязательная,\n",
        "повышенной сложности)\n",
        "\n",
        "Напишите программу, которая меняла бы значения двух переменных местами,\n",
        "но без использования третьей переменной и синтаксического сахара, который\n",
        "мы разбирали, а именно: без конструкции a, b = b, a. В переменные будут\n",
        "вводиться только числа.\n",
        "a = int(input('Введите первое число: '))\n",
        "b = int(input('Введите второе число: '))\n",
        "print(a, b)\n",
        "# стереть эту строчку и вставить свой код здесь\n",
        "print(a, b)\n",
        "Изменять, удалять, менять местами первую, вторую, третью и последнюю\n",
        "строчки нельзя. В четвёртую строку можно вставлять сколько угодно кода, не\n",
        "трогая последний print.\n"
      ],
      "metadata": {
        "id": "vme8Shz_8N9W"
      }
    },
    {
      "cell_type": "code",
      "source": [
        "a = int(input('Введите первое число: '))\n",
        "b = int(input('Введите второе число: '))\n",
        "print(a, b)\n",
        "\n",
        "# Меняем значения местами\n",
        "a = a + b\n",
        "b = a - b\n",
        "a = a - b\n",
        "print(a, b)\n"
      ],
      "metadata": {
        "colab": {
          "base_uri": "https://localhost:8080/"
        },
        "id": "gbd_x7JH8OLG",
        "outputId": "882ea160-03ad-444b-deb2-748da01f7edb"
      },
      "execution_count": null,
      "outputs": [
        {
          "output_type": "stream",
          "name": "stdout",
          "text": [
            "Введите первое число: 1\n",
            "Введите второе число: 2\n",
            "1 2\n",
            "2 1\n"
          ]
        }
      ]
    },
    {
      "cell_type": "markdown",
      "source": [
        "# Урок №2"
      ],
      "metadata": {
        "id": "oIM7YOX08bdz"
      }
    },
    {
      "cell_type": "code",
      "source": [
        "# Решение задачи 1\n",
        "def min_coins_to_flip(coins):\n",
        "    heads = coins.count(1)  # Количество монет, лежащих вверх гербом\n",
        "    tails = coins.count(0)  # Количество монет, лежащих вверх решкой\n",
        "    return min(heads, tails)\n",
        "\n",
        "# Пример использования\n",
        "coins = [1, 0, 1, 1, 0]  # 5 монеток\n",
        "result = min_coins_to_flip(coins)\n",
        "print(result)  # Вывод: 2\n"
      ],
      "metadata": {
        "id": "axyH67nq8mKe",
        "colab": {
          "base_uri": "https://localhost:8080/"
        },
        "outputId": "7f02fb05-6a11-4d86-eb45-cec3e07e259d"
      },
      "execution_count": 1,
      "outputs": [
        {
          "output_type": "stream",
          "name": "stdout",
          "text": [
            "2\n"
          ]
        }
      ]
    },
    {
      "cell_type": "code",
      "source": [
        "# Решение задачи 2\n",
        "def find_numbers(s, p):\n",
        "    for x in range(1, 1001):  # Перебираем возможные значения X\n",
        "        y = s - x  # Вычисляем Y\n",
        "        if x * y == p:  # Проверяем произведение\n",
        "            return x, y\n",
        "    return None, None  # Если не нашли подходящие числа\n",
        "\n",
        "# Пример использования\n",
        "s, p = 5, 6\n",
        "x, y = find_numbers(s, p)\n",
        "print(x, y)  # Вывод: 2 3\n",
        "\n",
        "s, p = 4, 4\n",
        "x, y = find_numbers(s, p)\n",
        "print(x, y)  # Вывод: 2 2\n"
      ],
      "metadata": {
        "colab": {
          "base_uri": "https://localhost:8080/"
        },
        "id": "CyV6jM7FN5Tq",
        "outputId": "4a9b8319-5993-4be5-9c5c-fd0c511931ec"
      },
      "execution_count": 2,
      "outputs": [
        {
          "output_type": "stream",
          "name": "stdout",
          "text": [
            "2 3\n",
            "2 2\n"
          ]
        }
      ]
    },
    {
      "cell_type": "code",
      "source": [
        "# Решение задачи 3\n",
        "def powers_of_two(n):\n",
        "    result = []\n",
        "    power = 1\n",
        "    while power <= n:\n",
        "        result.append(power)\n",
        "        power *= 2\n",
        "    return result\n",
        "\n",
        "# Пример использования\n",
        "n = 10\n",
        "result = powers_of_two(n)\n",
        "print(result)  # Вывод: [1, 2, 4, 8]\n"
      ],
      "metadata": {
        "colab": {
          "base_uri": "https://localhost:8080/"
        },
        "id": "EbYuJC-2N5au",
        "outputId": "68df3413-d2e2-440e-9137-46a128d0a04d"
      },
      "execution_count": 3,
      "outputs": [
        {
          "output_type": "stream",
          "name": "stdout",
          "text": [
            "[1, 2, 4, 8]\n"
          ]
        }
      ]
    },
    {
      "cell_type": "markdown",
      "source": [],
      "metadata": {
        "id": "vi8FzEXT8mO7"
      }
    },
    {
      "cell_type": "markdown",
      "source": [
        "# Урок №3"
      ],
      "metadata": {
        "id": "VuaO8qEX8e_x"
      }
    },
    {
      "cell_type": "code",
      "source": [
        "def min_coins_to_flip(coins):\n",
        "    # Считаем количество монет, лежащих вверх гербом (1) и решкой (0)\n",
        "    heads = coins.count(1)  # Герб\n",
        "    tails = coins.count(0)  # Решка\n",
        "    # Минимальное количество переворотов - это меньшее из двух значений\n",
        "    return min(heads, tails)\n",
        "\n",
        "# Пример использования\n",
        "coins = [1, 0, 1, 1, 0]  # Ввод: 5 -> 1 0 1 1 0\n",
        "result = min_coins_to_flip(coins)\n",
        "print(result)  # Вывод: 2\n"
      ],
      "metadata": {
        "id": "GJSs-dGC8nJb",
        "colab": {
          "base_uri": "https://localhost:8080/"
        },
        "outputId": "1252c89b-7af4-45e8-99b2-72b4ffaa0519"
      },
      "execution_count": 4,
      "outputs": [
        {
          "output_type": "stream",
          "name": "stdout",
          "text": [
            "2\n"
          ]
        }
      ]
    },
    {
      "cell_type": "code",
      "source": [
        "def find_numbers(s, p):\n",
        "    # Перебираем все возможные значения X от 1 до S-1\n",
        "    for x in range(1, s):\n",
        "        y = s - x  # Вычисляем Y как разность суммы и X\n",
        "        if x * y == p:  # Проверяем условие произведения\n",
        "            return x, y\n",
        "    return None, None  # Если числа не найдены\n",
        "\n",
        "# Пример использования\n",
        "s, p = 4, 4  # Ввод: 4 4 -> 2 2\n",
        "x, y = find_numbers(s, p)\n",
        "print(x, y)  # Вывод: 2 2\n",
        "\n",
        "s, p = 5, 6  # Ввод: 5 6 -> 2 3\n",
        "x, y = find_numbers(s, p)\n",
        "print(x, y)  # Вывод: 2 3\n"
      ],
      "metadata": {
        "colab": {
          "base_uri": "https://localhost:8080/"
        },
        "id": "TrNk_eUJOHfF",
        "outputId": "be14804f-a802-4367-e5c7-88ea24b028b7"
      },
      "execution_count": 5,
      "outputs": [
        {
          "output_type": "stream",
          "name": "stdout",
          "text": [
            "2 2\n",
            "2 3\n"
          ]
        }
      ]
    },
    {
      "cell_type": "code",
      "source": [
        "def powers_of_two(n):\n",
        "    result = []  # Список для хранения степеней двойки\n",
        "    power = 1    # Начинаем с ( 2^0 = 1 )\n",
        "    while power <= n:\n",
        "        result.append(power)\n",
        "        power *= 2  # Увеличиваем степень двойки\n",
        "    return result\n",
        "\n",
        "# Пример использования\n",
        "n = 10  # Ввод: 10 -> 1 2 4 8\n",
        "result = powers_of_two(n)\n",
        "print(result)  # Вывод: [1, 2, 4, 8]\n"
      ],
      "metadata": {
        "colab": {
          "base_uri": "https://localhost:8080/"
        },
        "id": "deI5BPdPOI0k",
        "outputId": "896e2cd1-0a50-4309-f93e-7ff6c145e024"
      },
      "execution_count": 6,
      "outputs": [
        {
          "output_type": "stream",
          "name": "stdout",
          "text": [
            "[1, 2, 4, 8]\n"
          ]
        }
      ]
    },
    {
      "cell_type": "markdown",
      "source": [
        "# Урок №4"
      ],
      "metadata": {
        "id": "um_HPwc2MzoM"
      }
    },
    {
      "cell_type": "code",
      "source": [
        "def count_occurrences(arr, x):\n",
        "    return arr.count(x)\n",
        "\n",
        "# Пример использования\n",
        "n = int(input(\"Введите количество элементов массива: \"))  # Ввод: 5\n",
        "arr = list(map(int, input(\"Введите элементы массива через пробел: \").split()))  # Ввод: 1 2 3 4 5\n",
        "x = int(input(\"Введите число X: \"))  # Ввод: 3\n",
        "\n",
        "result = count_occurrences(arr, x)\n",
        "print(f\"Число {x} встречается {result} раз(а).\")  # Вывод: Число 3 встречается 1 раз(а).\n"
      ],
      "metadata": {
        "colab": {
          "base_uri": "https://localhost:8080/"
        },
        "id": "gUbXAJx7Mz-9",
        "outputId": "40a85324-de49-4b58-f144-cc8b23a19824"
      },
      "execution_count": 7,
      "outputs": [
        {
          "output_type": "stream",
          "name": "stdout",
          "text": [
            "Введите количество элементов массива: 3\n",
            "Введите элементы массива через пробел: 6\n",
            "Введите число X: 3\n",
            "Число 3 встречается 0 раз(а).\n"
          ]
        }
      ]
    },
    {
      "cell_type": "code",
      "source": [
        "def find_closest(arr, x):\n",
        "    closest = arr[0]  # Изначально считаем, что первый элемент массива - самый близкий\n",
        "    min_diff = abs(x - arr[0])  # Разница между X и первым элементом\n",
        "\n",
        "    for num in arr:\n",
        "        diff = abs(x - num)  # Считаем разницу между X и текущим элементом\n",
        "        if diff < min_diff:  # Если нашли меньшую разницу\n",
        "            min_diff = diff\n",
        "            closest = num\n",
        "\n",
        "    return closest\n",
        "\n",
        "# Пример использования\n",
        "n = int(input(\"Введите количество элементов массива: \"))  # Ввод: 5\n",
        "arr = list(map(int, input(\"Введите элементы массива через пробел: \").split()))  # Ввод: 1 2 3 4 5\n",
        "x = int(input(\"Введите число X: \"))  # Ввод: 6\n",
        "\n",
        "result = find_closest(arr, x)\n",
        "print(f\"Самый близкий элемент к числу {x}: {result}\")  # Вывод: Самый близкий элемент к числу 6: 5\n"
      ],
      "metadata": {
        "colab": {
          "base_uri": "https://localhost:8080/"
        },
        "id": "ISy783T8ORDN",
        "outputId": "edc83fba-f873-4ff1-f575-cbc49b56eb5e"
      },
      "execution_count": 8,
      "outputs": [
        {
          "output_type": "stream",
          "name": "stdout",
          "text": [
            "Введите количество элементов массива: 4\n",
            "Введите элементы массива через пробел: 6\n",
            "Введите число X: 7\n",
            "Самый близкий элемент к числу 7: 6\n"
          ]
        }
      ]
    },
    {
      "cell_type": "markdown",
      "source": [
        "# Урок №5\n",
        "\n"
      ],
      "metadata": {
        "id": "q7QmJMvdM0ZN"
      }
    },
    {
      "cell_type": "code",
      "source": [
        "def find_common_elements(n, m, set1, set2):\n",
        "    # Преобразуем списки в множества и находим пересечение\n",
        "    common_elements = sorted(set(set1) & set(set2))\n",
        "    return common_elements\n",
        "\n",
        "# Пример использования\n",
        "n, m = map(int, input(\"Введите количество элементов двух множеств через пробел: \").split())  # Ввод: 11 6\n",
        "set1 = list(map(int, input(\"Введите элементы первого множества через пробел: \").split()))  # Ввод: 2 4 6 8 10 12 10 8 6 4 2\n",
        "set2 = list(map(int, input(\"Введите элементы второго множества через пробел: \").split()))  # Ввод: 3 6 9 12 15 18\n",
        "\n",
        "result = find_common_elements(n, m, set1, set2)\n",
        "print(\"Общие элементы в порядке возрастания:\", *result)  # Вывод: Общие элементы в порядке возрастания: 6 12\n"
      ],
      "metadata": {
        "colab": {
          "base_uri": "https://localhost:8080/"
        },
        "id": "bOpLR9o5M0lp",
        "outputId": "cd0d0881-e4b1-4402-9aed-1595e05e91af"
      },
      "execution_count": 10,
      "outputs": [
        {
          "output_type": "stream",
          "name": "stdout",
          "text": [
            "Введите количество элементов двух множеств через пробел: 2 4\n",
            "Введите элементы первого множества через пробел: 3 6\n",
            "Введите элементы второго множества через пробел: 12 4\n",
            "Общие элементы в порядке возрастания:\n"
          ]
        }
      ]
    },
    {
      "cell_type": "code",
      "source": [
        "def max_berries(n, berries):\n",
        "    max_harvest = 0\n",
        "\n",
        "    for i in range(n):\n",
        "        # Суммируем ягоды с текущего куста и двух соседних (используем цикличность)\n",
        "        harvest = berries[i] + berries[(i - 1) % n] + berries[(i + 1) % n]\n",
        "        max_harvest = max(max_harvest, harvest)\n",
        "\n",
        "    return max_harvest\n",
        "\n",
        "# Пример использования\n",
        "n = int(input(\"Введите количество кустов на грядке: \"))  # Ввод: 4\n",
        "berries = list(map(int, input(\"Введите урожайность каждого куста через пробел: \").split()))  # Ввод: 1 2 3 4\n",
        "\n",
        "result = max_berries(n, berries)\n",
        "print(\"Максимальное количество ягод за один заход:\", result)  # Вывод: Максимальное количество ягод за один заход: 9\n"
      ],
      "metadata": {
        "colab": {
          "base_uri": "https://localhost:8080/"
        },
        "id": "9zebPedRObPl",
        "outputId": "fd8c322e-ba36-4ea0-f842-961b0d9dcf4e"
      },
      "execution_count": 13,
      "outputs": [
        {
          "output_type": "stream",
          "name": "stdout",
          "text": [
            "Введите количество кустов на грядке: 1\n",
            "Введите урожайность каждого куста через пробел: 1\n",
            "Максимальное количество ягод за один заход: 3\n"
          ]
        }
      ]
    },
    {
      "cell_type": "markdown",
      "source": [
        "# Урок №6"
      ],
      "metadata": {
        "id": "_j6nEHvAM02a"
      }
    },
    {
      "cell_type": "code",
      "source": [
        "def power(a, b):\n",
        "    # Базовый случай: любое число в степени 0 равно 1\n",
        "    if b == 0:\n",
        "        return 1\n",
        "    # Рекурсивный случай: a^b = a * a^(b-1)\n",
        "    return a * power(a, b - 1)\n",
        "\n",
        "# Пример использования\n",
        "a = int(input(\"Введите число A: \"))  # Ввод: 3\n",
        "b = int(input(\"Введите степень B: \"))  # Ввод: 5\n",
        "\n",
        "result = power(a, b)\n",
        "print(f\"{a} в степени {b} -> {result}\")  # Вывод: 3 в степени 5 -> 243\n"
      ],
      "metadata": {
        "colab": {
          "base_uri": "https://localhost:8080/"
        },
        "id": "XePDjr-FM0-H",
        "outputId": "32b1921f-cc93-4863-8547-5e048e8a1fe3"
      },
      "execution_count": 15,
      "outputs": [
        {
          "output_type": "stream",
          "name": "stdout",
          "text": [
            "Введите число A: 1\n",
            "Введите степень B: 1\n",
            "1 в степени 1 -> 1\n"
          ]
        }
      ]
    },
    {
      "cell_type": "code",
      "source": [
        "def sum(a, b):\n",
        "    # Базовый случай: если одно из чисел равно 0, возвращаем другое число\n",
        "    if b == 0:\n",
        "        return a\n",
        "    # Рекурсивный случай: увеличиваем a на 1 и уменьшаем b на 1\n",
        "    return sum(a + 1, b - 1)\n",
        "\n",
        "# Пример использования\n",
        "a = int(input(\"Введите первое число: \"))  # Ввод: 2\n",
        "b = int(input(\"Введите второе число: \"))  # Ввод: 2\n",
        "\n",
        "result = sum(a, b)\n",
        "print(f\"Сумма {a} и {b} -> {result}\")  # Вывод: Сумма 2 и 2 -> 4\n"
      ],
      "metadata": {
        "colab": {
          "base_uri": "https://localhost:8080/"
        },
        "id": "8yltvhnUO0Jp",
        "outputId": "efb5bd44-430c-4964-dfe5-9024464723fa"
      },
      "execution_count": 16,
      "outputs": [
        {
          "output_type": "stream",
          "name": "stdout",
          "text": [
            "Введите первое число: 1\n",
            "Введите второе число: 1\n",
            "Сумма 1 и 1 -> 2\n"
          ]
        }
      ]
    },
    {
      "cell_type": "markdown",
      "source": [
        "# Урок №7"
      ],
      "metadata": {
        "id": "5gEyeh7qM1FZ"
      }
    },
    {
      "cell_type": "code",
      "source": [
        "def arithmetic_progression(a1, d, n):\n",
        "    # Генерация элементов арифметической прогрессии\n",
        "    return [a1 + (i - 1) * d for i in range(1, n + 1)]\n",
        "\n",
        "# Ввод данных\n",
        "a1 = int(input(\"Введите первый элемент прогрессии (a1): \"))  # Ввод: 7\n",
        "d = int(input(\"Введите разность прогрессии (d): \"))          # Ввод: 2\n",
        "n = int(input(\"Введите количество элементов (n): \"))         # Ввод: 5\n",
        "\n",
        "# Генерация массива и вывод результата\n",
        "result = arithmetic_progression(a1, d, n)\n",
        "print(\"Результат:\", result)  # Вывод: [7, 9, 11, 13, 15]\n"
      ],
      "metadata": {
        "colab": {
          "base_uri": "https://localhost:8080/"
        },
        "id": "3AJgddk3M1Mv",
        "outputId": "c6265d16-4728-42fd-8eee-9415700ff40a"
      },
      "execution_count": 17,
      "outputs": [
        {
          "output_type": "stream",
          "name": "stdout",
          "text": [
            "Введите первый элемент прогрессии (a1): 1\n",
            "Введите разность прогрессии (d): 1\n",
            "Введите количество элементов (n): 1\n",
            "Результат: [1]\n"
          ]
        }
      ]
    },
    {
      "cell_type": "code",
      "source": [
        "def find_indices_in_range(arr, min_val, max_val):\n",
        "    # Поиск индексов элементов, удовлетворяющих условию\n",
        "    return [i for i, val in enumerate(arr) if min_val <= val <= max_val]\n",
        "\n",
        "# Ввод данных\n",
        "arr = [-5, 9, 0, 3, -1, -2, 1, 4, -2, 10, 2, 0, -9, 8, 10, -9, 0, -5, -5, 7]\n",
        "min_val = int(input(\"Введите минимальное значение диапазона: \"))  # Ввод: 7\n",
        "max_val = int(input(\"Введите максимальное значение диапазона: \"))  # Ввод: 10\n",
        "\n",
        "# Поиск индексов и вывод результата\n",
        "result = find_indices_in_range(arr, min_val, max_val)\n",
        "print(\"Результат:\", result)  # Вывод: [1, 9, 13, 14, 19]\n"
      ],
      "metadata": {
        "colab": {
          "base_uri": "https://localhost:8080/"
        },
        "id": "tBo3R361O89N",
        "outputId": "8a9881f8-c9ae-4d0a-822e-1163d9abeb4d"
      },
      "execution_count": 18,
      "outputs": [
        {
          "output_type": "stream",
          "name": "stdout",
          "text": [
            "Введите минимальное значение диапазона: 1\n",
            "Введите максимальное значение диапазона: 2\n",
            "Результат: [6, 10]\n"
          ]
        }
      ]
    },
    {
      "cell_type": "markdown",
      "source": [
        "# Урок №8"
      ],
      "metadata": {
        "id": "jkSdeJn4M1Sg"
      }
    },
    {
      "cell_type": "code",
      "source": [
        "def check_rhythm(poem):\n",
        "    # Определяем множество гласных букв\n",
        "    vowels = \"аеёиоуыэюя\"\n",
        "\n",
        "    # Разделяем стих на фразы по пробелам\n",
        "    phrases = poem.split()\n",
        "\n",
        "    # Считаем количество гласных в каждой фразе\n",
        "    syllable_counts = [sum(1 for char in phrase if char in vowels) for phrase in phrases]\n",
        "\n",
        "    # Проверяем, одинаково ли количество гласных во всех фразах\n",
        "    if len(set(syllable_counts)) == 1:\n",
        "        return \"Парам пам-пам\"\n",
        "    else:\n",
        "        return \"Пам парам\"\n",
        "\n",
        "# Ввод стихотворения\n",
        "poem = input(\"Введите стихотворение Винни-Пуха: \")  # Ввод: пара-ра-рам рам-пам-папам па-ра-па-дам\n",
        "\n",
        "# Проверка ритма и вывод результата\n",
        "result = check_rhythm(poem)\n",
        "print(result)  # Вывод: Парам пам-пам\n"
      ],
      "metadata": {
        "colab": {
          "base_uri": "https://localhost:8080/",
          "height": 356
        },
        "id": "m7oO14kcM1YH",
        "outputId": "7e77ade7-2eb9-40bf-dbe2-d99c4ef4e973"
      },
      "execution_count": 20,
      "outputs": [
        {
          "output_type": "error",
          "ename": "KeyboardInterrupt",
          "evalue": "Interrupted by user",
          "traceback": [
            "\u001b[0;31m---------------------------------------------------------------------------\u001b[0m",
            "\u001b[0;31mKeyboardInterrupt\u001b[0m                         Traceback (most recent call last)",
            "\u001b[0;32m<ipython-input-20-8929d4136f41>\u001b[0m in \u001b[0;36m<cell line: 18>\u001b[0;34m()\u001b[0m\n\u001b[1;32m     16\u001b[0m \u001b[0;34m\u001b[0m\u001b[0m\n\u001b[1;32m     17\u001b[0m \u001b[0;31m# Ввод стихотворения\u001b[0m\u001b[0;34m\u001b[0m\u001b[0;34m\u001b[0m\u001b[0m\n\u001b[0;32m---> 18\u001b[0;31m \u001b[0mpoem\u001b[0m \u001b[0;34m=\u001b[0m \u001b[0minput\u001b[0m\u001b[0;34m(\u001b[0m\u001b[0;34m\"Введите стихотворение Винни-Пуха: \"\u001b[0m\u001b[0;34m)\u001b[0m  \u001b[0;31m# Ввод: пара-ра-рам рам-пам-папам па-ра-па-дам\u001b[0m\u001b[0;34m\u001b[0m\u001b[0;34m\u001b[0m\u001b[0m\n\u001b[0m\u001b[1;32m     19\u001b[0m \u001b[0;34m\u001b[0m\u001b[0m\n\u001b[1;32m     20\u001b[0m \u001b[0;31m# Проверка ритма и вывод результата\u001b[0m\u001b[0;34m\u001b[0m\u001b[0;34m\u001b[0m\u001b[0m\n",
            "\u001b[0;32m/usr/local/lib/python3.10/dist-packages/ipykernel/kernelbase.py\u001b[0m in \u001b[0;36mraw_input\u001b[0;34m(self, prompt)\u001b[0m\n\u001b[1;32m    849\u001b[0m                 \u001b[0;34m\"raw_input was called, but this frontend does not support input requests.\"\u001b[0m\u001b[0;34m\u001b[0m\u001b[0;34m\u001b[0m\u001b[0m\n\u001b[1;32m    850\u001b[0m             )\n\u001b[0;32m--> 851\u001b[0;31m         return self._input_request(str(prompt),\n\u001b[0m\u001b[1;32m    852\u001b[0m             \u001b[0mself\u001b[0m\u001b[0;34m.\u001b[0m\u001b[0m_parent_ident\u001b[0m\u001b[0;34m,\u001b[0m\u001b[0;34m\u001b[0m\u001b[0;34m\u001b[0m\u001b[0m\n\u001b[1;32m    853\u001b[0m             \u001b[0mself\u001b[0m\u001b[0;34m.\u001b[0m\u001b[0m_parent_header\u001b[0m\u001b[0;34m,\u001b[0m\u001b[0;34m\u001b[0m\u001b[0;34m\u001b[0m\u001b[0m\n",
            "\u001b[0;32m/usr/local/lib/python3.10/dist-packages/ipykernel/kernelbase.py\u001b[0m in \u001b[0;36m_input_request\u001b[0;34m(self, prompt, ident, parent, password)\u001b[0m\n\u001b[1;32m    893\u001b[0m             \u001b[0;32mexcept\u001b[0m \u001b[0mKeyboardInterrupt\u001b[0m\u001b[0;34m:\u001b[0m\u001b[0;34m\u001b[0m\u001b[0;34m\u001b[0m\u001b[0m\n\u001b[1;32m    894\u001b[0m                 \u001b[0;31m# re-raise KeyboardInterrupt, to truncate traceback\u001b[0m\u001b[0;34m\u001b[0m\u001b[0;34m\u001b[0m\u001b[0m\n\u001b[0;32m--> 895\u001b[0;31m                 \u001b[0;32mraise\u001b[0m \u001b[0mKeyboardInterrupt\u001b[0m\u001b[0;34m(\u001b[0m\u001b[0;34m\"Interrupted by user\"\u001b[0m\u001b[0;34m)\u001b[0m \u001b[0;32mfrom\u001b[0m \u001b[0;32mNone\u001b[0m\u001b[0;34m\u001b[0m\u001b[0;34m\u001b[0m\u001b[0m\n\u001b[0m\u001b[1;32m    896\u001b[0m             \u001b[0;32mexcept\u001b[0m \u001b[0mException\u001b[0m \u001b[0;32mas\u001b[0m \u001b[0me\u001b[0m\u001b[0;34m:\u001b[0m\u001b[0;34m\u001b[0m\u001b[0;34m\u001b[0m\u001b[0m\n\u001b[1;32m    897\u001b[0m                 \u001b[0mself\u001b[0m\u001b[0;34m.\u001b[0m\u001b[0mlog\u001b[0m\u001b[0;34m.\u001b[0m\u001b[0mwarning\u001b[0m\u001b[0;34m(\u001b[0m\u001b[0;34m\"Invalid Message:\"\u001b[0m\u001b[0;34m,\u001b[0m \u001b[0mexc_info\u001b[0m\u001b[0;34m=\u001b[0m\u001b[0;32mTrue\u001b[0m\u001b[0;34m)\u001b[0m\u001b[0;34m\u001b[0m\u001b[0;34m\u001b[0m\u001b[0m\n",
            "\u001b[0;31mKeyboardInterrupt\u001b[0m: Interrupted by user"
          ]
        }
      ]
    },
    {
      "cell_type": "code",
      "source": [
        "def print_operation_table(operation, num_rows=6, num_columns=6):\n",
        "    for i in range(1, num_rows + 1):  # Нумерация строк с 1\n",
        "        row = []  # Создаем пустую строку для текущей строки таблицы\n",
        "        for j in range(1, num_columns + 1):  # Нумерация столбцов с 1\n",
        "            row.append(operation(i, j))  # Вычисляем значение элемента\n",
        "        print(*row)  # Печатаем строку через пробел\n"
      ],
      "metadata": {
        "id": "In5leVygPVnI"
      },
      "execution_count": 22,
      "outputs": []
    },
    {
      "cell_type": "markdown",
      "source": [
        "# Урок №9"
      ],
      "metadata": {
        "id": "n4Y3WiwP8nPu"
      }
    },
    {
      "cell_type": "code",
      "source": [
        "# Инициализация телефонного справочника\n",
        "phonebook = {}\n",
        "\n",
        "def show_menu():\n",
        "    \"\"\"Отображение меню\"\"\"\n",
        "    print(\"\\nТелефонный справочник:\")\n",
        "    print(\"1. Добавить запись\")\n",
        "    print(\"2. Найти запись\")\n",
        "    print(\"3. Изменить запись\")\n",
        "    print(\"4. Удалить запись\")\n",
        "    print(\"5. Показать все записи\")\n",
        "    print(\"0. Выйти\")\n",
        "\n",
        "def add_entry():\n",
        "    \"\"\"Добавление новой записи\"\"\"\n",
        "    name = input(\"Введите имя или фамилию: \").strip()\n",
        "    if name in phonebook:\n",
        "        print(f\"Запись для '{name}' уже существует с номером {phonebook[name]}.\")\n",
        "    else:\n",
        "        phone = input(\"Введите номер телефона: \").strip()\n",
        "        phonebook[name] = phone\n",
        "        print(f\"Добавлена запись: {name} -> {phone}\")\n",
        "\n",
        "def find_entry():\n",
        "    \"\"\"Поиск записи\"\"\"\n",
        "    name = input(\"Введите имя или фамилию для поиска: \").strip()\n",
        "    if name in phonebook:\n",
        "        print(f\"Найдено: {name} -> {phonebook[name]}\")\n",
        "    else:\n",
        "        print(f\"Запись с именем '{name}' не найдена.\")\n",
        "\n",
        "def update_entry():\n",
        "    \"\"\"Изменение существующей записи\"\"\"\n",
        "    name = input(\"Введите имя или фамилию для изменения: \").strip()\n",
        "    if name in phonebook:\n",
        "        print(f\"Текущий номер телефона для '{name}': {phonebook[name]}\")\n",
        "        new_phone = input(\"Введите новый номер телефона: \").strip()\n",
        "        phonebook[name] = new_phone\n",
        "        print(f\"Запись обновлена: {name} -> {new_phone}\")\n",
        "    else:\n",
        "        print(f\"Запись с именем '{name}' не найдена.\")\n",
        "\n",
        "def delete_entry():\n",
        "    \"\"\"Удаление записи\"\"\"\n",
        "    name = input(\"Введите имя или фамилию для удаления: \").strip()\n",
        "    if name in phonebook:\n",
        "        del phonebook[name]\n",
        "        print(f\"Запись '{name}' удалена.\")\n",
        "    else:\n",
        "        print(f\"Запись с именем '{name}' не найдена.\")\n",
        "\n",
        "def show_all_entries():\n",
        "    \"\"\"Вывод всех записей\"\"\"\n",
        "    if phonebook:\n",
        "        print(\"\\nВсе записи в телефонном справочнике:\")\n",
        "        for name, phone in phonebook.items():\n",
        "            print(f\"{name} -> {phone}\")\n",
        "    else:\n",
        "        print(\"\\nТелефонный справочник пуст.\")\n",
        "\n",
        "def main():\n",
        "    \"\"\"Главная функция\"\"\"\n",
        "    while True:\n",
        "        show_menu()\n",
        "        choice = input(\"Выберите действие (0-5): \").strip()\n",
        "\n",
        "        if choice == \"1\":\n",
        "            add_entry()\n",
        "        elif choice == \"2\":\n",
        "            find_entry()\n",
        "        elif choice == \"3\":\n",
        "            update_entry()\n",
        "        elif choice == \"4\":\n",
        "            delete_entry()\n",
        "        elif choice == \"5\":\n",
        "            show_all_entries()\n",
        "        elif choice == \"0\":\n",
        "            print(\"Выход из программы.\")\n",
        "            break\n",
        "        else:\n",
        "            print(\"Неверный выбор. Попробуйте снова.\")\n",
        "\n",
        "# Запуск программы\n",
        "if __name__ == \"__main__\":\n",
        "    main()\n"
      ],
      "metadata": {
        "colab": {
          "base_uri": "https://localhost:8080/",
          "height": 1000
        },
        "id": "ceBbDSHVNKlw",
        "outputId": "86d39d9b-92ec-48ba-f440-accfbddea2d8"
      },
      "execution_count": 23,
      "outputs": [
        {
          "output_type": "stream",
          "name": "stdout",
          "text": [
            "\n",
            "Телефонный справочник:\n",
            "1. Добавить запись\n",
            "2. Найти запись\n",
            "3. Изменить запись\n",
            "4. Удалить запись\n",
            "5. Показать все записи\n",
            "0. Выйти\n",
            "Выберите действие (0-5): 1\n",
            "Введите имя или фамилию: Мар\n",
            "Введите номер телефона: 12222\n",
            "Добавлена запись: Мар -> 12222\n",
            "\n",
            "Телефонный справочник:\n",
            "1. Добавить запись\n",
            "2. Найти запись\n",
            "3. Изменить запись\n",
            "4. Удалить запись\n",
            "5. Показать все записи\n",
            "0. Выйти\n",
            "Выберите действие (0-5): 2\n",
            "Введите имя или фамилию для поиска: мар\n",
            "Запись с именем 'мар' не найдена.\n",
            "\n",
            "Телефонный справочник:\n",
            "1. Добавить запись\n",
            "2. Найти запись\n",
            "3. Изменить запись\n",
            "4. Удалить запись\n",
            "5. Показать все записи\n",
            "0. Выйти\n",
            "Выберите действие (0-5): 2\n",
            "Введите имя или фамилию для поиска: Мар\n",
            "Найдено: Мар -> 12222\n",
            "\n",
            "Телефонный справочник:\n",
            "1. Добавить запись\n",
            "2. Найти запись\n",
            "3. Изменить запись\n",
            "4. Удалить запись\n",
            "5. Показать все записи\n",
            "0. Выйти\n"
          ]
        },
        {
          "output_type": "error",
          "ename": "KeyboardInterrupt",
          "evalue": "Interrupted by user",
          "traceback": [
            "\u001b[0;31m---------------------------------------------------------------------------\u001b[0m",
            "\u001b[0;31mKeyboardInterrupt\u001b[0m                         Traceback (most recent call last)",
            "\u001b[0;32m<ipython-input-23-5cd964f1c25d>\u001b[0m in \u001b[0;36m<cell line: 84>\u001b[0;34m()\u001b[0m\n\u001b[1;32m     83\u001b[0m \u001b[0;31m# Запуск программы\u001b[0m\u001b[0;34m\u001b[0m\u001b[0;34m\u001b[0m\u001b[0m\n\u001b[1;32m     84\u001b[0m \u001b[0;32mif\u001b[0m \u001b[0m__name__\u001b[0m \u001b[0;34m==\u001b[0m \u001b[0;34m\"__main__\"\u001b[0m\u001b[0;34m:\u001b[0m\u001b[0;34m\u001b[0m\u001b[0;34m\u001b[0m\u001b[0m\n\u001b[0;32m---> 85\u001b[0;31m     \u001b[0mmain\u001b[0m\u001b[0;34m(\u001b[0m\u001b[0;34m)\u001b[0m\u001b[0;34m\u001b[0m\u001b[0;34m\u001b[0m\u001b[0m\n\u001b[0m",
            "\u001b[0;32m<ipython-input-23-5cd964f1c25d>\u001b[0m in \u001b[0;36mmain\u001b[0;34m()\u001b[0m\n\u001b[1;32m     63\u001b[0m     \u001b[0;32mwhile\u001b[0m \u001b[0;32mTrue\u001b[0m\u001b[0;34m:\u001b[0m\u001b[0;34m\u001b[0m\u001b[0;34m\u001b[0m\u001b[0m\n\u001b[1;32m     64\u001b[0m         \u001b[0mshow_menu\u001b[0m\u001b[0;34m(\u001b[0m\u001b[0;34m)\u001b[0m\u001b[0;34m\u001b[0m\u001b[0;34m\u001b[0m\u001b[0m\n\u001b[0;32m---> 65\u001b[0;31m         \u001b[0mchoice\u001b[0m \u001b[0;34m=\u001b[0m \u001b[0minput\u001b[0m\u001b[0;34m(\u001b[0m\u001b[0;34m\"Выберите действие (0-5): \"\u001b[0m\u001b[0;34m)\u001b[0m\u001b[0;34m.\u001b[0m\u001b[0mstrip\u001b[0m\u001b[0;34m(\u001b[0m\u001b[0;34m)\u001b[0m\u001b[0;34m\u001b[0m\u001b[0;34m\u001b[0m\u001b[0m\n\u001b[0m\u001b[1;32m     66\u001b[0m \u001b[0;34m\u001b[0m\u001b[0m\n\u001b[1;32m     67\u001b[0m         \u001b[0;32mif\u001b[0m \u001b[0mchoice\u001b[0m \u001b[0;34m==\u001b[0m \u001b[0;34m\"1\"\u001b[0m\u001b[0;34m:\u001b[0m\u001b[0;34m\u001b[0m\u001b[0;34m\u001b[0m\u001b[0m\n",
            "\u001b[0;32m/usr/local/lib/python3.10/dist-packages/ipykernel/kernelbase.py\u001b[0m in \u001b[0;36mraw_input\u001b[0;34m(self, prompt)\u001b[0m\n\u001b[1;32m    849\u001b[0m                 \u001b[0;34m\"raw_input was called, but this frontend does not support input requests.\"\u001b[0m\u001b[0;34m\u001b[0m\u001b[0;34m\u001b[0m\u001b[0m\n\u001b[1;32m    850\u001b[0m             )\n\u001b[0;32m--> 851\u001b[0;31m         return self._input_request(str(prompt),\n\u001b[0m\u001b[1;32m    852\u001b[0m             \u001b[0mself\u001b[0m\u001b[0;34m.\u001b[0m\u001b[0m_parent_ident\u001b[0m\u001b[0;34m,\u001b[0m\u001b[0;34m\u001b[0m\u001b[0;34m\u001b[0m\u001b[0m\n\u001b[1;32m    853\u001b[0m             \u001b[0mself\u001b[0m\u001b[0;34m.\u001b[0m\u001b[0m_parent_header\u001b[0m\u001b[0;34m,\u001b[0m\u001b[0;34m\u001b[0m\u001b[0;34m\u001b[0m\u001b[0m\n",
            "\u001b[0;32m/usr/local/lib/python3.10/dist-packages/ipykernel/kernelbase.py\u001b[0m in \u001b[0;36m_input_request\u001b[0;34m(self, prompt, ident, parent, password)\u001b[0m\n\u001b[1;32m    893\u001b[0m             \u001b[0;32mexcept\u001b[0m \u001b[0mKeyboardInterrupt\u001b[0m\u001b[0;34m:\u001b[0m\u001b[0;34m\u001b[0m\u001b[0;34m\u001b[0m\u001b[0m\n\u001b[1;32m    894\u001b[0m                 \u001b[0;31m# re-raise KeyboardInterrupt, to truncate traceback\u001b[0m\u001b[0;34m\u001b[0m\u001b[0;34m\u001b[0m\u001b[0m\n\u001b[0;32m--> 895\u001b[0;31m                 \u001b[0;32mraise\u001b[0m \u001b[0mKeyboardInterrupt\u001b[0m\u001b[0;34m(\u001b[0m\u001b[0;34m\"Interrupted by user\"\u001b[0m\u001b[0;34m)\u001b[0m \u001b[0;32mfrom\u001b[0m \u001b[0;32mNone\u001b[0m\u001b[0;34m\u001b[0m\u001b[0;34m\u001b[0m\u001b[0m\n\u001b[0m\u001b[1;32m    896\u001b[0m             \u001b[0;32mexcept\u001b[0m \u001b[0mException\u001b[0m \u001b[0;32mas\u001b[0m \u001b[0me\u001b[0m\u001b[0;34m:\u001b[0m\u001b[0;34m\u001b[0m\u001b[0;34m\u001b[0m\u001b[0m\n\u001b[1;32m    897\u001b[0m                 \u001b[0mself\u001b[0m\u001b[0;34m.\u001b[0m\u001b[0mlog\u001b[0m\u001b[0;34m.\u001b[0m\u001b[0mwarning\u001b[0m\u001b[0;34m(\u001b[0m\u001b[0;34m\"Invalid Message:\"\u001b[0m\u001b[0;34m,\u001b[0m \u001b[0mexc_info\u001b[0m\u001b[0;34m=\u001b[0m\u001b[0;32mTrue\u001b[0m\u001b[0;34m)\u001b[0m\u001b[0;34m\u001b[0m\u001b[0;34m\u001b[0m\u001b[0m\n",
            "\u001b[0;31mKeyboardInterrupt\u001b[0m: Interrupted by user"
          ]
        }
      ]
    },
    {
      "cell_type": "markdown",
      "source": [
        "# Урок №10"
      ],
      "metadata": {
        "id": "3g0VxneLNK8m"
      }
    },
    {
      "cell_type": "code",
      "source": [
        "import pandas as pd\n",
        "\n",
        "# Загрузка данных из файла\n",
        "file_path = \"/content/sample_data/california_housing_train.csv\"  # путь к файлу в Google Colab\n",
        "data = pd.read_csv(file_path)\n",
        "\n",
        "# Задача 1: Средняя стоимость дома, где population от 0 до 500\n",
        "population_filter = data[(data['population'] >= 0) & (data['population'] <= 500)]\n",
        "average_house_value = population_filter['median_house_value'].mean()\n",
        "print(f\"Средняя стоимость дома, где population от 0 до 500: {average_house_value}\")\n",
        "\n",
        "# Задача 2: Максимальное households в зоне минимального population\n",
        "min_population = data['population'].min()\n",
        "households_in_min_population_zone = data[data['population'] == min_population]['households'].max()\n",
        "print(f\"Максимальное значение households в зоне минимального population: {households_in_min_population_zone}\")\n"
      ],
      "metadata": {
        "colab": {
          "base_uri": "https://localhost:8080/"
        },
        "id": "zZXUeYYMNLKV",
        "outputId": "600ddb3b-86de-4364-b38f-de79a13d9ba7"
      },
      "execution_count": 24,
      "outputs": [
        {
          "output_type": "stream",
          "name": "stdout",
          "text": [
            "Средняя стоимость дома, где population от 0 до 500: 206799.95140186916\n",
            "Максимальное значение households в зоне минимального population: 4.0\n"
          ]
        }
      ]
    }
  ]
}